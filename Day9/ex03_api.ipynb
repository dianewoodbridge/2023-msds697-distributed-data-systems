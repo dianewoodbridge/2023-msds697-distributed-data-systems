{
 "cells": [
  {
   "cell_type": "code",
   "execution_count": 1,
   "metadata": {
    "ExecuteTime": {
     "end_time": "2021-01-25T01:15:54.468555Z",
     "start_time": "2021-01-25T01:15:50.038333Z"
    }
   },
   "outputs": [
    {
     "name": "stderr",
     "output_type": "stream",
     "text": [
      "Using Spark's default log4j profile: org/apache/spark/log4j-defaults.properties\n",
      "Setting default log level to \"WARN\".\n",
      "To adjust logging level use sc.setLogLevel(newLevel). For SparkR, use setLogLevel(newLevel).\n",
      "22/02/15 11:52:03 WARN NativeCodeLoader: Unable to load native-hadoop library for your platform... using builtin-java classes where applicable\n",
      "22/02/15 11:52:03 WARN Utils: Service 'SparkUI' could not bind on port 4040. Attempting port 4041.\n",
      "22/02/15 11:52:03 WARN Utils: Service 'SparkUI' could not bind on port 4041. Attempting port 4042.\n"
     ]
    }
   ],
   "source": [
    "from pyspark.sql import SparkSession\n",
    "from pyspark.sql.types import *\n",
    "\n",
    "def IntegerSafe(value): # In case there are non-integer type to be converted.\n",
    "    try:\n",
    "        return int(value)\n",
    "    except:\n",
    "        return None\n",
    "\n",
    "ss = SparkSession.builder.getOrCreate()\n",
    "sc = ss.sparkContext\n",
    "\n",
    "business = sc.textFile(\"../Data/SF_business/filtered_registered_business_sf.csv\")\\\n",
    "             .map(lambda x : x.split(','))\\\n",
    "             .map(lambda x : (IntegerSafe(x[0]), x[1], x[2], x[3], x[4]))\n",
    "              \n",
    "\n",
    "schema = StructType([ StructField(\"zip\", IntegerType(), True),\n",
    "                      StructField(\"name\", StringType(), False),\n",
    "                      StructField(\"street\", StringType(), True),\n",
    "                      StructField(\"city\", StringType(), True),\n",
    "                      StructField(\"state\", StringType(), True)\n",
    "                    ])\n",
    "\n",
    "business_df = ss.createDataFrame(business, schema)"
   ]
  },
  {
   "cell_type": "markdown",
   "metadata": {},
   "source": [
    "## .select() - Choose name and zip"
   ]
  },
  {
   "cell_type": "code",
   "execution_count": 2,
   "metadata": {
    "ExecuteTime": {
     "end_time": "2021-01-25T01:15:58.072964Z",
     "start_time": "2021-01-25T01:15:56.895745Z"
    }
   },
   "outputs": [
    {
     "name": "stderr",
     "output_type": "stream",
     "text": [
      "\r",
      "[Stage 0:>                                                          (0 + 1) / 1]\r"
     ]
    },
    {
     "name": "stdout",
     "output_type": "stream",
     "text": [
      "+--------------------+-----+\n",
      "|                name|  zip|\n",
      "+--------------------+-----+\n",
      "|   Tournahu George L|94123|\n",
      "|Stephens Institut...|94124|\n",
      "|Stephens Institut...|94105|\n",
      "|Stephens Institut...|94108|\n",
      "|Stephens Institut...|94107|\n",
      "+--------------------+-----+\n",
      "only showing top 5 rows\n",
      "\n"
     ]
    },
    {
     "name": "stderr",
     "output_type": "stream",
     "text": [
      "\r",
      "                                                                                \r"
     ]
    }
   ],
   "source": [
    "business_df.select(\"name\", \"zip\").show(5)"
   ]
  },
  {
   "cell_type": "code",
   "execution_count": 3,
   "metadata": {
    "ExecuteTime": {
     "end_time": "2021-01-25T01:15:58.734069Z",
     "start_time": "2021-01-25T01:15:58.654204Z"
    }
   },
   "outputs": [
    {
     "name": "stdout",
     "output_type": "stream",
     "text": [
      "+--------------------+-----+\n",
      "|                name|  zip|\n",
      "+--------------------+-----+\n",
      "|   Tournahu George L|94123|\n",
      "|Stephens Institut...|94124|\n",
      "|Stephens Institut...|94105|\n",
      "|Stephens Institut...|94108|\n",
      "|Stephens Institut...|94107|\n",
      "+--------------------+-----+\n",
      "only showing top 5 rows\n",
      "\n"
     ]
    }
   ],
   "source": [
    "business_df.select(business_df[\"name\"], business_df[\"zip\"]).show(5)"
   ]
  },
  {
   "cell_type": "markdown",
   "metadata": {},
   "source": [
    "#### does the original dataframe change?"
   ]
  },
  {
   "cell_type": "code",
   "execution_count": 4,
   "metadata": {
    "ExecuteTime": {
     "end_time": "2021-01-25T01:16:00.741673Z",
     "start_time": "2021-01-25T01:16:00.628479Z"
    }
   },
   "outputs": [
    {
     "name": "stdout",
     "output_type": "stream",
     "text": [
      "+-----+--------------------+--------------------+-------------+-----+\n",
      "|  zip|                name|              street|         city|state|\n",
      "+-----+--------------------+--------------------+-------------+-----+\n",
      "|94123|   Tournahu George L|   3301 Broderick St|San Francisco|   CA|\n",
      "|94124|Stephens Institut...|    2225 Jerrold Ave|San Francisco|   CA|\n",
      "|94105|Stephens Institut...|180 New Montgomer...|San Francisco|   CA|\n",
      "|94108|Stephens Institut...|       540 Powell St|San Francisco|   CA|\n",
      "|94107|Stephens Institut...|     460 Townsend St|San Francisco|   CA|\n",
      "|94109|Stephens Institut...|1835-49 Van Ness Ave|San Francisco|   CA|\n",
      "|94102|Stephens Institut...|       620 Sutter St|San Francisco|   CA|\n",
      "|94102|Stephens Institut...|       655 Sutter St|San Francisco|   CA|\n",
      "|94109|Stephens Institut...|        1055 Pine St|San Francisco|   CA|\n",
      "|94107|Stephens Institut...|    121 Wisconsin St|San Francisco|   CA|\n",
      "+-----+--------------------+--------------------+-------------+-----+\n",
      "only showing top 10 rows\n",
      "\n"
     ]
    }
   ],
   "source": [
    "business_df.show(10)"
   ]
  },
  {
   "cell_type": "markdown",
   "metadata": {},
   "source": [
    "## .drop() - select except for state and city"
   ]
  },
  {
   "cell_type": "code",
   "execution_count": 5,
   "metadata": {
    "ExecuteTime": {
     "end_time": "2021-01-25T01:16:45.697111Z",
     "start_time": "2021-01-25T01:16:45.627520Z"
    }
   },
   "outputs": [
    {
     "name": "stdout",
     "output_type": "stream",
     "text": [
      "+-----+--------------------+--------------------+-------------+\n",
      "|  zip|                name|              street|         city|\n",
      "+-----+--------------------+--------------------+-------------+\n",
      "|94123|   Tournahu George L|   3301 Broderick St|San Francisco|\n",
      "|94124|Stephens Institut...|    2225 Jerrold Ave|San Francisco|\n",
      "|94105|Stephens Institut...|180 New Montgomer...|San Francisco|\n",
      "|94108|Stephens Institut...|       540 Powell St|San Francisco|\n",
      "|94107|Stephens Institut...|     460 Townsend St|San Francisco|\n",
      "+-----+--------------------+--------------------+-------------+\n",
      "only showing top 5 rows\n",
      "\n"
     ]
    }
   ],
   "source": [
    "business_df.drop(\"state\").show(5)"
   ]
  },
  {
   "cell_type": "code",
   "execution_count": 4,
   "metadata": {
    "ExecuteTime": {
     "end_time": "2021-01-25T01:16:48.626075Z",
     "start_time": "2021-01-25T01:16:48.569722Z"
    }
   },
   "outputs": [
    {
     "name": "stdout",
     "output_type": "stream",
     "text": [
      "+-----+--------------------+--------------------+\n",
      "|  zip|                name|              street|\n",
      "+-----+--------------------+--------------------+\n",
      "|94123|   Tournahu George L|   3301 Broderick St|\n",
      "|94124|Stephens Institut...|    2225 Jerrold Ave|\n",
      "|94105|Stephens Institut...|180 New Montgomer...|\n",
      "|94108|Stephens Institut...|       540 Powell St|\n",
      "|94107|Stephens Institut...|     460 Townsend St|\n",
      "+-----+--------------------+--------------------+\n",
      "only showing top 5 rows\n",
      "\n"
     ]
    }
   ],
   "source": [
    "business_df.drop(\"state\",\"city\").show(5)"
   ]
  },
  {
   "cell_type": "code",
   "execution_count": 7,
   "metadata": {
    "ExecuteTime": {
     "end_time": "2021-01-25T01:16:55.356612Z",
     "start_time": "2021-01-25T01:16:55.289654Z"
    }
   },
   "outputs": [
    {
     "name": "stdout",
     "output_type": "stream",
     "text": [
      "+-----+--------------------+--------------------+-------------+-----+\n",
      "|  zip|                name|              street|         city|state|\n",
      "+-----+--------------------+--------------------+-------------+-----+\n",
      "|94123|   Tournahu George L|   3301 Broderick St|San Francisco|   CA|\n",
      "|94124|Stephens Institut...|    2225 Jerrold Ave|San Francisco|   CA|\n",
      "|94105|Stephens Institut...|180 New Montgomer...|San Francisco|   CA|\n",
      "|94108|Stephens Institut...|       540 Powell St|San Francisco|   CA|\n",
      "|94107|Stephens Institut...|     460 Townsend St|San Francisco|   CA|\n",
      "|94109|Stephens Institut...|1835-49 Van Ness Ave|San Francisco|   CA|\n",
      "|94102|Stephens Institut...|       620 Sutter St|San Francisco|   CA|\n",
      "|94102|Stephens Institut...|       655 Sutter St|San Francisco|   CA|\n",
      "|94109|Stephens Institut...|        1055 Pine St|San Francisco|   CA|\n",
      "|94107|Stephens Institut...|    121 Wisconsin St|San Francisco|   CA|\n",
      "|94102|Stephens Institut...|        150 Hayes St|San Francisco|   CA|\n",
      "|94133|Stephens Institut...|    2300 Stockton St|San Francisco|   CA|\n",
      "|94133|Stephens Institut...| 2801 Leavenworth St|San Francisco|   CA|\n",
      "|94107|Stephens Institut...|     466 Townsend St|San Francisco|   CA|\n",
      "|94102|Stephens Institut...|         491 Post St|San Francisco|   CA|\n",
      "|94107|Stephens Institut...|      601 Brannan St|San Francisco|   CA|\n",
      "|94102|Stephens Institut...|         625 Polk St|San Francisco|   CA|\n",
      "|94105|Stephens Institut...|       631 Howard St|San Francisco|   CA|\n",
      "|94102|Stephens Institut...|       688 Sutter St|San Francisco|   CA|\n",
      "|94111|Stephens Institut...|   700 Montgomery St|San Francisco|   CA|\n",
      "+-----+--------------------+--------------------+-------------+-----+\n",
      "only showing top 20 rows\n",
      "\n"
     ]
    }
   ],
   "source": [
    "business_df.show()"
   ]
  },
  {
   "cell_type": "markdown",
   "metadata": {},
   "source": [
    "## .filter() and .where() - Filter where city is San Francisco but state is not CA"
   ]
  },
  {
   "cell_type": "code",
   "execution_count": 8,
   "metadata": {
    "ExecuteTime": {
     "end_time": "2021-01-25T01:17:13.971197Z",
     "start_time": "2021-01-25T01:17:13.901500Z"
    }
   },
   "outputs": [
    {
     "name": "stdout",
     "output_type": "stream",
     "text": [
      "+-----+--------------------+-----------------+-------------+-----+\n",
      "|  zip|                name|           street|         city|state|\n",
      "+-----+--------------------+-----------------+-------------+-----+\n",
      "|94123|   Tournahu George L|3301 Broderick St|San Francisco|   CA|\n",
      "|94123|        Amore Robert|    1958 Union St|San Francisco|   CA|\n",
      "|94123|Aunt Anns Corp He...|    2722 Gough St|San Francisco|   CA|\n",
      "|94123|Barbagelata & Co Inc| 2381 Chestnut St|San Francisco|   CA|\n",
      "|94123|Boas Internationa...|  2098 Lombard St|San Francisco|   CA|\n",
      "+-----+--------------------+-----------------+-------------+-----+\n",
      "only showing top 5 rows\n",
      "\n"
     ]
    }
   ],
   "source": [
    "business_df.filter(\"zip == 94123\").show(5)"
   ]
  },
  {
   "cell_type": "code",
   "execution_count": 6,
   "metadata": {
    "ExecuteTime": {
     "end_time": "2021-01-25T01:17:15.795213Z",
     "start_time": "2021-01-25T01:17:14.700890Z"
    }
   },
   "outputs": [
    {
     "name": "stderr",
     "output_type": "stream",
     "text": [
      "\r",
      "[Stage 5:>                                                          (0 + 1) / 1]\r",
      "\r",
      "                                                                                \r"
     ]
    },
    {
     "name": "stdout",
     "output_type": "stream",
     "text": [
      "+-----+--------------------+--------------------+-------------+-----+\n",
      "|  zip|                name|              street|         city|state|\n",
      "+-----+--------------------+--------------------+-------------+-----+\n",
      "|94134|         Kugay Faruk|301 Executive Par...|San Francisco|     |\n",
      "|94114|     Crystal Way Inc|      2335 Market St|San Francisco|     |\n",
      "|94109|          Protopopov|        1190 Pine St|San Francisco|   CO|\n",
      "|94134|301 Rolph Street ...|       65 Leland Ave|San Francisco|     |\n",
      "|94127|Nu Greek Wine Co Inc|     225 Moncada Way|San Francisco|   SC|\n",
      "|94124|Calvary Hill Soci...|   141 Industrial St|San Francisco|     |\n",
      "|94118|       Leung Clifton|         320 6th Ave|San Francisco|     |\n",
      "|94109| Chun Jimmy & Shuk Y|  1529 Sacramento St|San Francisco|     |\n",
      "|94109| Chun Jimmy & Shuk Y|  1354 Sacramento St|San Francisco|     |\n",
      "|94118|        Leung Olivia|         320 6th Ave|San Francisco|     |\n",
      "+-----+--------------------+--------------------+-------------+-----+\n",
      "only showing top 10 rows\n",
      "\n"
     ]
    }
   ],
   "source": [
    "business_df.filter(\"city == 'San Francisco' and state != 'CA'\").show(10)"
   ]
  },
  {
   "cell_type": "markdown",
   "metadata": {},
   "source": [
    "## .withColumnRenamed(existing_col_name, new_col_name)  - Change zip to zip code"
   ]
  },
  {
   "cell_type": "code",
   "execution_count": 10,
   "metadata": {
    "ExecuteTime": {
     "end_time": "2021-01-25T01:18:24.237750Z",
     "start_time": "2021-01-25T01:18:24.174932Z"
    }
   },
   "outputs": [
    {
     "name": "stdout",
     "output_type": "stream",
     "text": [
      "+--------+--------------------+--------------------+-------------+-----+\n",
      "|zip code|                name|              street|         city|state|\n",
      "+--------+--------------------+--------------------+-------------+-----+\n",
      "|   94123|   Tournahu George L|   3301 Broderick St|San Francisco|   CA|\n",
      "|   94124|Stephens Institut...|    2225 Jerrold Ave|San Francisco|   CA|\n",
      "|   94105|Stephens Institut...|180 New Montgomer...|San Francisco|   CA|\n",
      "|   94108|Stephens Institut...|       540 Powell St|San Francisco|   CA|\n",
      "|   94107|Stephens Institut...|     460 Townsend St|San Francisco|   CA|\n",
      "+--------+--------------------+--------------------+-------------+-----+\n",
      "only showing top 5 rows\n",
      "\n"
     ]
    }
   ],
   "source": [
    "business_df.withColumnRenamed('zip','zip code').show(5)"
   ]
  },
  {
   "cell_type": "markdown",
   "metadata": {},
   "source": [
    "## .withColumn(columnName, columnExpression)  - Add the \"odd_zip\" column to see whether zip is an odd number"
   ]
  },
  {
   "cell_type": "code",
   "execution_count": 11,
   "metadata": {
    "ExecuteTime": {
     "end_time": "2021-01-25T01:18:29.019512Z",
     "start_time": "2021-01-25T01:18:28.763215Z"
    }
   },
   "outputs": [
    {
     "name": "stdout",
     "output_type": "stream",
     "text": [
      "+-----+--------------------+--------------------+-------------+-----+-------+\n",
      "|  zip|                name|              street|         city|state|odd_zip|\n",
      "+-----+--------------------+--------------------+-------------+-----+-------+\n",
      "|94123|   Tournahu George L|   3301 Broderick St|San Francisco|   CA|      1|\n",
      "|94124|Stephens Institut...|    2225 Jerrold Ave|San Francisco|   CA|      0|\n",
      "|94105|Stephens Institut...|180 New Montgomer...|San Francisco|   CA|      1|\n",
      "|94108|Stephens Institut...|       540 Powell St|San Francisco|   CA|      0|\n",
      "|94107|Stephens Institut...|     460 Townsend St|San Francisco|   CA|      1|\n",
      "+-----+--------------------+--------------------+-------------+-----+-------+\n",
      "only showing top 5 rows\n",
      "\n"
     ]
    }
   ],
   "source": [
    "business_df.withColumn('odd_zip', business_df['zip'] % 2 ).show(5)"
   ]
  },
  {
   "cell_type": "code",
   "execution_count": 12,
   "metadata": {
    "ExecuteTime": {
     "end_time": "2021-01-25T01:18:44.329756Z",
     "start_time": "2021-01-25T01:18:44.250062Z"
    }
   },
   "outputs": [
    {
     "name": "stdout",
     "output_type": "stream",
     "text": [
      "+-----+--------------------+--------------------+-------------+-----+-------+\n",
      "|  zip|                name|              street|         city|state|odd_zip|\n",
      "+-----+--------------------+--------------------+-------------+-----+-------+\n",
      "|94123|   Tournahu George L|   3301 Broderick St|San Francisco|   CA|   true|\n",
      "|94124|Stephens Institut...|    2225 Jerrold Ave|San Francisco|   CA|  false|\n",
      "|94105|Stephens Institut...|180 New Montgomer...|San Francisco|   CA|   true|\n",
      "|94108|Stephens Institut...|       540 Powell St|San Francisco|   CA|  false|\n",
      "|94107|Stephens Institut...|     460 Townsend St|San Francisco|   CA|   true|\n",
      "+-----+--------------------+--------------------+-------------+-----+-------+\n",
      "only showing top 5 rows\n",
      "\n"
     ]
    }
   ],
   "source": [
    "business_df.withColumn('odd_zip', business_df['zip'] % 2 == 1 ).show(5)"
   ]
  },
  {
   "cell_type": "markdown",
   "metadata": {},
   "source": [
    "## .orderBy(columns, ascending = True) - Order it by name in ascending/descending order"
   ]
  },
  {
   "cell_type": "code",
   "execution_count": 13,
   "metadata": {
    "ExecuteTime": {
     "end_time": "2021-01-25T01:20:01.306106Z",
     "start_time": "2021-01-25T01:20:00.517338Z"
    }
   },
   "outputs": [
    {
     "name": "stderr",
     "output_type": "stream",
     "text": [
      "\r",
      "[Stage 12:>                                                         (0 + 2) / 2]\r"
     ]
    },
    {
     "name": "stdout",
     "output_type": "stream",
     "text": [
      "+-----+-----------------+------+--------------------+-----------------+\n",
      "|  zip|             name|street|                city|            state|\n",
      "+-----+-----------------+------+--------------------+-----------------+\n",
      "|94103|               \"1|     2|3 Express Moving ...|31 Duboce Ave 31a|\n",
      "|94105|      \"1-2-3 Deli| Inc.\"|      123 Mission St|    San Francisco|\n",
      "|94105|\"1055 Pine Street|  Llc\"|79 New Montgomery St|    San Francisco|\n",
      "|94105|\"1069 Pine Street|  Llc\"|79 New Montgomery St|    San Francisco|\n",
      "|94109|\"1080 Bush Street|  Llc\"|        1080 Bush St|    San Francisco|\n",
      "+-----+-----------------+------+--------------------+-----------------+\n",
      "only showing top 5 rows\n",
      "\n"
     ]
    },
    {
     "name": "stderr",
     "output_type": "stream",
     "text": [
      "\r",
      "                                                                                \r"
     ]
    }
   ],
   "source": [
    "business_df.orderBy(\"name\").show(5)"
   ]
  },
  {
   "cell_type": "code",
   "execution_count": 14,
   "metadata": {
    "ExecuteTime": {
     "end_time": "2021-01-25T01:20:03.067598Z",
     "start_time": "2021-01-25T01:20:02.372235Z"
    }
   },
   "outputs": [
    {
     "name": "stdout",
     "output_type": "stream",
     "text": [
      "+-----+--------------------+--------------------+-------------+-----+\n",
      "|  zip|                name|              street|         city|state|\n",
      "+-----+--------------------+--------------------+-------------+-----+\n",
      "|94521|     Zzr Enterprises|5520 Pennsylvania...|      Concord|   CA|\n",
      "|94121|Zzgor Entertainme...|     447 22nd Ave #3|San+francisco|   CA|\n",
      "|94104|         Zyzzyva Inc|      57 Post St 604|San Francisco|   CA|\n",
      "|94118|         Zyzzyva Inc|       44 Almaden Ct|San Francisco|   CA|\n",
      "|53226|          Zywave Inc|10700 W Research ...|    Milwaukee|   WI|\n",
      "+-----+--------------------+--------------------+-------------+-----+\n",
      "only showing top 5 rows\n",
      "\n"
     ]
    },
    {
     "name": "stderr",
     "output_type": "stream",
     "text": [
      "\r",
      "[Stage 13:>                                                         (0 + 2) / 2]\r",
      "\r",
      "                                                                                \r"
     ]
    }
   ],
   "source": [
    "business_df.orderBy(\"name\", ascending = False).show(5)"
   ]
  },
  {
   "cell_type": "code",
   "execution_count": 15,
   "metadata": {
    "ExecuteTime": {
     "end_time": "2021-01-25T01:20:04.518619Z",
     "start_time": "2021-01-25T01:20:03.822396Z"
    },
    "scrolled": true
   },
   "outputs": [
    {
     "name": "stderr",
     "output_type": "stream",
     "text": [
      "\r",
      "[Stage 14:>                                                         (0 + 2) / 2]\r"
     ]
    },
    {
     "name": "stdout",
     "output_type": "stream",
     "text": [
      "+-----+-----------------+------+--------------------+-----------------+\n",
      "|  zip|             name|street|                city|            state|\n",
      "+-----+-----------------+------+--------------------+-----------------+\n",
      "|94103|               \"1|     2|3 Express Moving ...|31 Duboce Ave 31a|\n",
      "|94105|      \"1-2-3 Deli| Inc.\"|      123 Mission St|    San Francisco|\n",
      "|94105|\"1055 Pine Street|  Llc\"|79 New Montgomery St|    San Francisco|\n",
      "|94105|\"1069 Pine Street|  Llc\"|79 New Montgomery St|    San Francisco|\n",
      "|94109|\"1080 Bush Street|  Llc\"|        1080 Bush St|    San Francisco|\n",
      "+-----+-----------------+------+--------------------+-----------------+\n",
      "only showing top 5 rows\n",
      "\n"
     ]
    },
    {
     "name": "stderr",
     "output_type": "stream",
     "text": [
      "\r",
      "                                                                                \r"
     ]
    }
   ],
   "source": [
    "business_df.sort(\"name\").show(5)"
   ]
  },
  {
   "cell_type": "code",
   "execution_count": 16,
   "metadata": {
    "ExecuteTime": {
     "end_time": "2021-01-25T01:20:09.529722Z",
     "start_time": "2021-01-25T01:20:09.174707Z"
    }
   },
   "outputs": [],
   "source": [
    "ss.stop()"
   ]
  },
  {
   "cell_type": "code",
   "execution_count": null,
   "metadata": {},
   "outputs": [],
   "source": []
  }
 ],
 "metadata": {
  "kernelspec": {
   "display_name": "Python 3 (ipykernel)",
   "language": "python",
   "name": "python3"
  },
  "language_info": {
   "codemirror_mode": {
    "name": "ipython",
    "version": 3
   },
   "file_extension": ".py",
   "mimetype": "text/x-python",
   "name": "python",
   "nbconvert_exporter": "python",
   "pygments_lexer": "ipython3",
   "version": "3.7.11"
  },
  "varInspector": {
   "cols": {
    "lenName": 16,
    "lenType": 16,
    "lenVar": 40
   },
   "kernels_config": {
    "python": {
     "delete_cmd_postfix": "",
     "delete_cmd_prefix": "del ",
     "library": "var_list.py",
     "varRefreshCmd": "print(var_dic_list())"
    },
    "r": {
     "delete_cmd_postfix": ") ",
     "delete_cmd_prefix": "rm(",
     "library": "var_list.r",
     "varRefreshCmd": "cat(var_dic_list()) "
    }
   },
   "types_to_exclude": [
    "module",
    "function",
    "builtin_function_or_method",
    "instance",
    "_Feature"
   ],
   "window_display": false
  }
 },
 "nbformat": 4,
 "nbformat_minor": 2
}
