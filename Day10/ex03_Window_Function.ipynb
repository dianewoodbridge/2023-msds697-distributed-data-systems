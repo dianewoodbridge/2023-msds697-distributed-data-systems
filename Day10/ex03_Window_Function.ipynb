{
 "cells": [
  {
   "cell_type": "code",
   "execution_count": 1,
   "metadata": {
    "ExecuteTime": {
     "end_time": "2021-02-01T06:56:40.778518Z",
     "start_time": "2021-02-01T06:56:37.494961Z"
    }
   },
   "outputs": [
    {
     "name": "stderr",
     "output_type": "stream",
     "text": [
      "Using Spark's default log4j profile: org/apache/spark/log4j-defaults.properties\n",
      "Setting default log level to \"WARN\".\n",
      "To adjust logging level use sc.setLogLevel(newLevel). For SparkR, use setLogLevel(newLevel).\n",
      "22/02/17 04:53:10 WARN NativeCodeLoader: Unable to load native-hadoop library for your platform... using builtin-java classes where applicable\n",
      "22/02/17 04:53:11 WARN Utils: Service 'SparkUI' could not bind on port 4040. Attempting port 4041.\n"
     ]
    }
   ],
   "source": [
    "from pyspark.sql import SparkSession\n",
    "from pyspark.sql.types import *\n",
    "from pyspark.sql.functions import *\n",
    "\n",
    "ss = SparkSession.builder.getOrCreate()\n",
    "sc = ss.sparkContext"
   ]
  },
  {
   "cell_type": "code",
   "execution_count": 2,
   "metadata": {
    "ExecuteTime": {
     "end_time": "2021-02-01T06:56:41.584252Z",
     "start_time": "2021-02-01T06:56:40.782857Z"
    }
   },
   "outputs": [],
   "source": [
    "status = sc.textFile(\"../Data/bike_share/status_million.csv\")"
   ]
  },
  {
   "cell_type": "markdown",
   "metadata": {},
   "source": [
    "## schema : station_id (int), num_bikes_available (int), num_docks_available (int), timestamp(timestamp)"
   ]
  },
  {
   "cell_type": "code",
   "execution_count": 3,
   "metadata": {
    "ExecuteTime": {
     "end_time": "2021-02-01T06:56:41.590610Z",
     "start_time": "2021-02-01T06:56:41.586545Z"
    }
   },
   "outputs": [],
   "source": [
    "from datetime import datetime\n",
    "def toIntSafe(inval):\n",
    "    try:\n",
    "        return int(inval)\n",
    "    except:\n",
    "        return None\n",
    "\n",
    "def toTimeSafe(inval):\n",
    "    inval = inval.strip(\"\\\"\") # Timestamp starting and ending with a double quotation mark.\n",
    "    try:\n",
    "        return datetime.strptime(inval, \"%Y-%m-%d %H:%M:%S\")\n",
    "    except:\n",
    "        return None"
   ]
  },
  {
   "cell_type": "code",
   "execution_count": 4,
   "metadata": {
    "ExecuteTime": {
     "end_time": "2021-02-01T06:56:41.598366Z",
     "start_time": "2021-02-01T06:56:41.592971Z"
    }
   },
   "outputs": [],
   "source": [
    "schema = StructType([ StructField(\"station_id\", IntegerType(), False),\n",
    "                      StructField(\"num_bikes_available\", IntegerType(), True),\n",
    "                      StructField(\"num_docks_available\", IntegerType(), True),\n",
    "                      StructField(\"timestamp\", TimestampType(), True)\n",
    "                    ])"
   ]
  },
  {
   "cell_type": "code",
   "execution_count": 5,
   "metadata": {
    "ExecuteTime": {
     "end_time": "2021-02-01T06:56:41.621016Z",
     "start_time": "2021-02-01T06:56:41.600581Z"
    }
   },
   "outputs": [],
   "source": [
    "status_transformed = status.map(lambda x : x.split(\",\"))\\\n",
    "                           .map(lambda x : (int(x[0]), toIntSafe(x[1]), toIntSafe(x[2]), toTimeSafe(x[3])))"
   ]
  },
  {
   "cell_type": "code",
   "execution_count": 6,
   "metadata": {
    "ExecuteTime": {
     "end_time": "2021-02-01T06:56:41.689324Z",
     "start_time": "2021-02-01T06:56:41.623361Z"
    }
   },
   "outputs": [
    {
     "data": {
      "text/plain": [
       "MapPartitionsRDD[5] at mapPartitions at PythonRDD.scala:145"
      ]
     },
     "execution_count": 6,
     "metadata": {},
     "output_type": "execute_result"
    }
   ],
   "source": [
    "status_transformed.partitionBy(10).cache()"
   ]
  },
  {
   "cell_type": "code",
   "execution_count": 7,
   "metadata": {
    "ExecuteTime": {
     "end_time": "2021-02-01T06:56:48.972490Z",
     "start_time": "2021-02-01T06:56:41.694097Z"
    }
   },
   "outputs": [
    {
     "name": "stderr",
     "output_type": "stream",
     "text": [
      "                                                                                \r"
     ]
    },
    {
     "data": {
      "text/plain": [
       "1000000"
      ]
     },
     "execution_count": 7,
     "metadata": {},
     "output_type": "execute_result"
    }
   ],
   "source": [
    "status_transformed.count()"
   ]
  },
  {
   "cell_type": "code",
   "execution_count": 8,
   "metadata": {
    "ExecuteTime": {
     "end_time": "2021-02-01T06:56:50.947544Z",
     "start_time": "2021-02-01T06:56:48.975095Z"
    }
   },
   "outputs": [],
   "source": [
    "status_df = ss.createDataFrame(status_transformed, schema)"
   ]
  },
  {
   "cell_type": "code",
   "execution_count": 9,
   "metadata": {
    "ExecuteTime": {
     "end_time": "2021-02-01T06:56:52.573550Z",
     "start_time": "2021-02-01T06:56:50.949303Z"
    }
   },
   "outputs": [
    {
     "name": "stderr",
     "output_type": "stream",
     "text": [
      "\r",
      "[Stage 1:>                                                          (0 + 1) / 1]\r"
     ]
    },
    {
     "name": "stdout",
     "output_type": "stream",
     "text": [
      "+----------+-------------------+-------------------+-------------------+\n",
      "|station_id|num_bikes_available|num_docks_available|          timestamp|\n",
      "+----------+-------------------+-------------------+-------------------+\n",
      "|        10|                  7|                  8|2014-12-30 15:37:02|\n",
      "|        10|                  7|                  8|2014-12-30 15:35:02|\n",
      "|        10|                  7|                  8|2014-12-30 15:34:02|\n",
      "|        10|                  7|                  8|2014-12-30 15:33:02|\n",
      "|        10|                  7|                  8|2014-12-30 15:32:02|\n",
      "+----------+-------------------+-------------------+-------------------+\n",
      "only showing top 5 rows\n",
      "\n"
     ]
    },
    {
     "name": "stderr",
     "output_type": "stream",
     "text": [
      "\r",
      "                                                                                \r"
     ]
    }
   ],
   "source": [
    "status_df.show(5)"
   ]
  },
  {
   "cell_type": "code",
   "execution_count": 10,
   "metadata": {
    "ExecuteTime": {
     "end_time": "2021-02-01T06:58:25.976798Z",
     "start_time": "2021-02-01T06:56:52.575740Z"
    }
   },
   "outputs": [
    {
     "name": "stderr",
     "output_type": "stream",
     "text": [
      "[Stage 2:=============================>                             (1 + 1) / 2]\r"
     ]
    },
    {
     "name": "stdout",
     "output_type": "stream",
     "text": [
      "+----------+-------------------+-------------------+-------------------+\n",
      "|station_id|num_bikes_available|num_docks_available|          timestamp|\n",
      "+----------+-------------------+-------------------+-------------------+\n",
      "|        10|                  9|                  6|2014-09-01 00:00:03|\n",
      "|        10|                  9|                  6|2014-09-01 00:01:02|\n",
      "|        10|                  9|                  6|2014-09-01 00:02:02|\n",
      "|        10|                  9|                  6|2014-09-01 00:03:03|\n",
      "|        10|                  9|                  6|2014-09-01 00:04:02|\n",
      "|        10|                  9|                  6|2014-09-01 00:05:02|\n",
      "|        10|                  9|                  6|2014-09-01 00:06:02|\n",
      "|        10|                  9|                  6|2014-09-01 00:07:02|\n",
      "|        10|                  9|                  6|2014-09-01 00:08:02|\n",
      "|        10|                  9|                  6|2014-09-01 00:09:03|\n",
      "|        10|                  9|                  6|2014-09-01 00:10:02|\n",
      "|        10|                  9|                  6|2014-09-01 00:11:02|\n",
      "|        10|                  9|                  6|2014-09-01 00:12:02|\n",
      "|        10|                  9|                  6|2014-09-01 00:13:02|\n",
      "|        10|                  9|                  6|2014-09-01 00:14:02|\n",
      "|        10|                  9|                  6|2014-09-01 00:15:02|\n",
      "|        10|                  9|                  6|2014-09-01 00:16:02|\n",
      "|        10|                  9|                  6|2014-09-01 00:17:02|\n",
      "|        10|                  9|                  6|2014-09-01 00:18:02|\n",
      "|        10|                  9|                  6|2014-09-01 00:19:02|\n",
      "+----------+-------------------+-------------------+-------------------+\n",
      "only showing top 20 rows\n",
      "\n"
     ]
    },
    {
     "name": "stderr",
     "output_type": "stream",
     "text": [
      "\r",
      "                                                                                \r"
     ]
    }
   ],
   "source": [
    "status_df.filter('station_id == 10').orderBy('timestamp').show()"
   ]
  },
  {
   "cell_type": "markdown",
   "metadata": {},
   "source": [
    "## Return the current and previous number of bike at station_id, 10 at each time data was collected order by timestamp.\n"
   ]
  },
  {
   "cell_type": "code",
   "execution_count": 11,
   "metadata": {
    "ExecuteTime": {
     "end_time": "2021-02-01T06:58:25.989723Z",
     "start_time": "2021-02-01T06:58:25.978594Z"
    }
   },
   "outputs": [],
   "source": [
    "from pyspark.sql.window import Window\n",
    "from pyspark.sql.functions import *"
   ]
  },
  {
   "cell_type": "code",
   "execution_count": 12,
   "metadata": {
    "ExecuteTime": {
     "end_time": "2021-02-01T06:59:54.087059Z",
     "start_time": "2021-02-01T06:58:25.991658Z"
    }
   },
   "outputs": [
    {
     "name": "stderr",
     "output_type": "stream",
     "text": [
      "[Stage 3:=============================>                             (1 + 1) / 2]\r"
     ]
    },
    {
     "name": "stdout",
     "output_type": "stream",
     "text": [
      "+----------+-------------------+-------------------+------------------------+\n",
      "|station_id|          timestamp|num_bikes_available|prev_num_bikes_available|\n",
      "+----------+-------------------+-------------------+------------------------+\n",
      "|        10|2014-09-01 00:00:03|                  9|                    null|\n",
      "|        10|2014-09-01 00:01:02|                  9|                       9|\n",
      "|        10|2014-09-01 00:02:02|                  9|                       9|\n",
      "|        10|2014-09-01 00:03:03|                  9|                       9|\n",
      "|        10|2014-09-01 00:04:02|                  9|                       9|\n",
      "|        10|2014-09-01 00:05:02|                  9|                       9|\n",
      "|        10|2014-09-01 00:06:02|                  9|                       9|\n",
      "|        10|2014-09-01 00:07:02|                  9|                       9|\n",
      "|        10|2014-09-01 00:08:02|                  9|                       9|\n",
      "|        10|2014-09-01 00:09:03|                  9|                       9|\n",
      "|        10|2014-09-01 00:10:02|                  9|                       9|\n",
      "|        10|2014-09-01 00:11:02|                  9|                       9|\n",
      "|        10|2014-09-01 00:12:02|                  9|                       9|\n",
      "|        10|2014-09-01 00:13:02|                  9|                       9|\n",
      "|        10|2014-09-01 00:14:02|                  9|                       9|\n",
      "|        10|2014-09-01 00:15:02|                  9|                       9|\n",
      "|        10|2014-09-01 00:16:02|                  9|                       9|\n",
      "|        10|2014-09-01 00:17:02|                  9|                       9|\n",
      "|        10|2014-09-01 00:18:02|                  9|                       9|\n",
      "|        10|2014-09-01 00:19:02|                  9|                       9|\n",
      "+----------+-------------------+-------------------+------------------------+\n",
      "only showing top 20 rows\n",
      "\n"
     ]
    },
    {
     "name": "stderr",
     "output_type": "stream",
     "text": [
      "\r",
      "                                                                                \r"
     ]
    }
   ],
   "source": [
    "status_df.filter(\"station_id == 10\")\\\n",
    "         .select('station_id', 'timestamp', 'num_bikes_available',\\\n",
    "                 lag('num_bikes_available',1).over(Window.partitionBy('station_id').orderBy('timestamp'))\\\n",
    "                 .alias(\"prev_num_bikes_available\"))\\\n",
    "         .show()"
   ]
  },
  {
   "cell_type": "code",
   "execution_count": 13,
   "metadata": {
    "ExecuteTime": {
     "end_time": "2021-02-01T07:01:38.600921Z",
     "start_time": "2021-02-01T06:59:54.089540Z"
    }
   },
   "outputs": [
    {
     "name": "stderr",
     "output_type": "stream",
     "text": [
      "[Stage 6:=============================>                             (1 + 1) / 2]\r"
     ]
    },
    {
     "name": "stdout",
     "output_type": "stream",
     "text": [
      "+----------+-------------------+-------------------+------------------------+\n",
      "|station_id|          timestamp|num_bikes_available|next_num_bikes_available|\n",
      "+----------+-------------------+-------------------+------------------------+\n",
      "|        10|2014-09-01 00:00:03|                  9|                       9|\n",
      "|        10|2014-09-01 00:01:02|                  9|                       9|\n",
      "|        10|2014-09-01 00:02:02|                  9|                       9|\n",
      "|        10|2014-09-01 00:03:03|                  9|                       9|\n",
      "|        10|2014-09-01 00:04:02|                  9|                       9|\n",
      "|        10|2014-09-01 00:05:02|                  9|                       9|\n",
      "|        10|2014-09-01 00:06:02|                  9|                       9|\n",
      "|        10|2014-09-01 00:07:02|                  9|                       9|\n",
      "|        10|2014-09-01 00:08:02|                  9|                       9|\n",
      "|        10|2014-09-01 00:09:03|                  9|                       9|\n",
      "|        10|2014-09-01 00:10:02|                  9|                       9|\n",
      "|        10|2014-09-01 00:11:02|                  9|                       9|\n",
      "|        10|2014-09-01 00:12:02|                  9|                       9|\n",
      "|        10|2014-09-01 00:13:02|                  9|                       9|\n",
      "|        10|2014-09-01 00:14:02|                  9|                       9|\n",
      "|        10|2014-09-01 00:15:02|                  9|                       9|\n",
      "|        10|2014-09-01 00:16:02|                  9|                       9|\n",
      "|        10|2014-09-01 00:17:02|                  9|                       9|\n",
      "|        10|2014-09-01 00:18:02|                  9|                       9|\n",
      "|        10|2014-09-01 00:19:02|                  9|                       9|\n",
      "+----------+-------------------+-------------------+------------------------+\n",
      "only showing top 20 rows\n",
      "\n"
     ]
    },
    {
     "name": "stderr",
     "output_type": "stream",
     "text": [
      "\r",
      "                                                                                \r"
     ]
    }
   ],
   "source": [
    "status_df.filter(\"station_id == 10\")\\\n",
    "         .select('station_id', 'timestamp', 'num_bikes_available',\\\n",
    "                 lead('num_bikes_available', 1).over(Window.partitionBy('station_id').orderBy('timestamp'))\\\n",
    "                 .alias(\"next_num_bikes_available\"))\\\n",
    "         .show()"
   ]
  },
  {
   "cell_type": "code",
   "execution_count": 14,
   "metadata": {
    "ExecuteTime": {
     "end_time": "2021-02-01T07:01:39.603139Z",
     "start_time": "2021-02-01T07:01:38.602660Z"
    }
   },
   "outputs": [],
   "source": [
    "ss.stop()"
   ]
  },
  {
   "cell_type": "code",
   "execution_count": null,
   "metadata": {},
   "outputs": [],
   "source": []
  },
  {
   "cell_type": "code",
   "execution_count": null,
   "metadata": {},
   "outputs": [],
   "source": []
  }
 ],
 "metadata": {
  "kernelspec": {
   "display_name": "Python 3 (ipykernel)",
   "language": "python",
   "name": "python3"
  },
  "language_info": {
   "codemirror_mode": {
    "name": "ipython",
    "version": 3
   },
   "file_extension": ".py",
   "mimetype": "text/x-python",
   "name": "python",
   "nbconvert_exporter": "python",
   "pygments_lexer": "ipython3",
   "version": "3.7.11"
  },
  "varInspector": {
   "cols": {
    "lenName": 16,
    "lenType": 16,
    "lenVar": 40
   },
   "kernels_config": {
    "python": {
     "delete_cmd_postfix": "",
     "delete_cmd_prefix": "del ",
     "library": "var_list.py",
     "varRefreshCmd": "print(var_dic_list())"
    },
    "r": {
     "delete_cmd_postfix": ") ",
     "delete_cmd_prefix": "rm(",
     "library": "var_list.r",
     "varRefreshCmd": "cat(var_dic_list()) "
    }
   },
   "types_to_exclude": [
    "module",
    "function",
    "builtin_function_or_method",
    "instance",
    "_Feature"
   ],
   "window_display": false
  }
 },
 "nbformat": 4,
 "nbformat_minor": 2
}
