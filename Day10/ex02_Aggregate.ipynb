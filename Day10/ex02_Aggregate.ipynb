{
 "cells": [
  {
   "cell_type": "code",
   "execution_count": 1,
   "metadata": {
    "ExecuteTime": {
     "end_time": "2021-01-31T23:39:27.446537Z",
     "start_time": "2021-01-31T23:39:21.381876Z"
    }
   },
   "outputs": [
    {
     "name": "stderr",
     "output_type": "stream",
     "text": [
      "Using Spark's default log4j profile: org/apache/spark/log4j-defaults.properties\n",
      "Setting default log level to \"WARN\".\n",
      "To adjust logging level use sc.setLogLevel(newLevel). For SparkR, use setLogLevel(newLevel).\n",
      "22/02/17 04:48:25 WARN NativeCodeLoader: Unable to load native-hadoop library for your platform... using builtin-java classes where applicable\n"
     ]
    }
   ],
   "source": [
    "from pyspark.sql import SparkSession\n",
    "from pyspark.sql.types import *\n",
    "from pyspark.sql.functions import *\n",
    "\n",
    "from datetime import datetime\n",
    "def toIntSafe(inval):\n",
    "    try:\n",
    "        return int(inval)\n",
    "    except ValueError:\n",
    "        return None\n",
    "\n",
    "def toTimeSafe(inval):\n",
    "    inval = inval.strip(\"\\\"\") # Timestamp starting and ending with a double quotation mark.\n",
    "    try:\n",
    "        return datetime.strptime(inval, \"%Y-%m-%d %H:%M:%S\")\n",
    "    except ValueError:\n",
    "        return None\n",
    "\n",
    "ss = SparkSession.builder.getOrCreate()\n",
    "sc = ss.sparkContext\n",
    "\n",
    "status = sc.textFile(\"../Data/bike_share/status_million.csv\")\\\n",
    "           .map(lambda x : x.split(\",\"))\\\n",
    "           .map(lambda x : (int(x[0]), toIntSafe(x[1]), toIntSafe(x[2]), toTimeSafe(x[3])))\n",
    "\n",
    "schema = StructType([ StructField(\"station_id\", IntegerType(), False),\n",
    "                      StructField(\"num_bikes_available\", IntegerType(), True),\n",
    "                      StructField(\"num_docks_available\", IntegerType(), True),\n",
    "                      StructField(\"timestamp\", TimestampType(), True)\n",
    "                    ])\n",
    "\n",
    "\n",
    "status_df = ss.createDataFrame(status, schema)"
   ]
  },
  {
   "cell_type": "markdown",
   "metadata": {},
   "source": [
    "## Calculate min, max, average num_bike_available per station_id.\n"
   ]
  },
  {
   "cell_type": "code",
   "execution_count": 2,
   "metadata": {
    "ExecuteTime": {
     "end_time": "2021-01-31T23:44:54.061475Z",
     "start_time": "2021-01-31T23:39:27.448651Z"
    }
   },
   "outputs": [
    {
     "name": "stderr",
     "output_type": "stream",
     "text": [
      "                                                                                \r"
     ]
    },
    {
     "name": "stdout",
     "output_type": "stream",
     "text": [
      "+----------+------------------------+\n",
      "|station_id|min(num_bikes_available)|\n",
      "+----------+------------------------+\n",
      "|        10|                       0|\n",
      "|        11|                       0|\n",
      "+----------+------------------------+\n",
      "\n"
     ]
    },
    {
     "name": "stderr",
     "output_type": "stream",
     "text": [
      "                                                                                \r"
     ]
    },
    {
     "name": "stdout",
     "output_type": "stream",
     "text": [
      "+----------+------------------------+\n",
      "|station_id|avg(num_bikes_available)|\n",
      "+----------+------------------------+\n",
      "|        10|       5.931166125246599|\n",
      "|        11|       7.768450198057421|\n",
      "+----------+------------------------+\n",
      "\n"
     ]
    },
    {
     "name": "stderr",
     "output_type": "stream",
     "text": [
      "[Stage 6:=============================>                             (1 + 1) / 2]\r"
     ]
    },
    {
     "name": "stdout",
     "output_type": "stream",
     "text": [
      "+----------+------------------------+\n",
      "|station_id|max(num_bikes_available)|\n",
      "+----------+------------------------+\n",
      "|        10|                      15|\n",
      "|        11|                      19|\n",
      "+----------+------------------------+\n",
      "\n"
     ]
    },
    {
     "name": "stderr",
     "output_type": "stream",
     "text": [
      "\r",
      "                                                                                \r"
     ]
    }
   ],
   "source": [
    "status_df.groupBy('station_id').min('num_bikes_available').show()\n",
    "status_df.groupBy('station_id').avg('num_bikes_available').show()\n",
    "status_df.groupBy('station_id').max('num_bikes_available').show()"
   ]
  },
  {
   "cell_type": "code",
   "execution_count": 3,
   "metadata": {
    "ExecuteTime": {
     "end_time": "2021-01-31T23:46:37.588099Z",
     "start_time": "2021-01-31T23:44:54.064506Z"
    }
   },
   "outputs": [
    {
     "name": "stderr",
     "output_type": "stream",
     "text": [
      "[Stage 9:=============================>                             (1 + 1) / 2]\r"
     ]
    },
    {
     "name": "stdout",
     "output_type": "stream",
     "text": [
      "+----------+------------------------+------------------------+------------------------+\n",
      "|station_id|min(num_bikes_available)|avg(num_bikes_available)|max(num_bikes_available)|\n",
      "+----------+------------------------+------------------------+------------------------+\n",
      "|        10|                       0|       5.931166125246599|                      15|\n",
      "|        11|                       0|       7.768450198057421|                      19|\n",
      "+----------+------------------------+------------------------+------------------------+\n",
      "\n"
     ]
    },
    {
     "name": "stderr",
     "output_type": "stream",
     "text": [
      "\r",
      "                                                                                \r"
     ]
    }
   ],
   "source": [
    "status_df.groupBy('station_id')\\\n",
    "         .agg(min('num_bikes_available'), avg('num_bikes_available'), max('num_bikes_available'))\\\n",
    "         .show()"
   ]
  },
  {
   "cell_type": "code",
   "execution_count": 4,
   "metadata": {
    "ExecuteTime": {
     "end_time": "2021-01-31T23:46:38.584593Z",
     "start_time": "2021-01-31T23:46:37.634656Z"
    }
   },
   "outputs": [],
   "source": [
    "ss.stop()"
   ]
  },
  {
   "cell_type": "code",
   "execution_count": null,
   "metadata": {},
   "outputs": [],
   "source": []
  }
 ],
 "metadata": {
  "kernelspec": {
   "display_name": "Python 3 (ipykernel)",
   "language": "python",
   "name": "python3"
  },
  "language_info": {
   "codemirror_mode": {
    "name": "ipython",
    "version": 3
   },
   "file_extension": ".py",
   "mimetype": "text/x-python",
   "name": "python",
   "nbconvert_exporter": "python",
   "pygments_lexer": "ipython3",
   "version": "3.7.11"
  },
  "varInspector": {
   "cols": {
    "lenName": 16,
    "lenType": 16,
    "lenVar": 40
   },
   "kernels_config": {
    "python": {
     "delete_cmd_postfix": "",
     "delete_cmd_prefix": "del ",
     "library": "var_list.py",
     "varRefreshCmd": "print(var_dic_list())"
    },
    "r": {
     "delete_cmd_postfix": ") ",
     "delete_cmd_prefix": "rm(",
     "library": "var_list.r",
     "varRefreshCmd": "cat(var_dic_list()) "
    }
   },
   "types_to_exclude": [
    "module",
    "function",
    "builtin_function_or_method",
    "instance",
    "_Feature"
   ],
   "window_display": false
  }
 },
 "nbformat": 4,
 "nbformat_minor": 2
}
