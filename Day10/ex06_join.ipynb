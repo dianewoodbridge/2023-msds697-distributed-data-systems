{
 "cells": [
  {
   "cell_type": "code",
   "execution_count": 1,
   "metadata": {
    "ExecuteTime": {
     "end_time": "2021-01-31T23:44:03.788635Z",
     "start_time": "2021-01-31T23:43:57.603181Z"
    }
   },
   "outputs": [
    {
     "name": "stderr",
     "output_type": "stream",
     "text": [
      "Using Spark's default log4j profile: org/apache/spark/log4j-defaults.properties\n",
      "Setting default log level to \"WARN\".\n",
      "To adjust logging level use sc.setLogLevel(newLevel). For SparkR, use setLogLevel(newLevel).\n",
      "22/02/17 05:11:37 WARN NativeCodeLoader: Unable to load native-hadoop library for your platform... using builtin-java classes where applicable\n",
      "22/02/17 05:11:37 WARN Utils: Service 'SparkUI' could not bind on port 4040. Attempting port 4041.\n"
     ]
    }
   ],
   "source": [
    "from pyspark.sql import SparkSession\n",
    "from pyspark.sql.types import *\n",
    "\n",
    "def IntegerSafe(value): # In case there are non-integer type to be converted.\n",
    "    try:\n",
    "        return int(value)\n",
    "    except:\n",
    "        return None\n",
    "\n",
    "ss = SparkSession.builder.getOrCreate()\n",
    "sc = ss.sparkContext\n",
    "\n",
    "business = sc.textFile(\"../Data/SF_business/filtered_registered_business_sf.csv\")\\\n",
    "             .map(lambda x : x.split(','))\\\n",
    "             .map(lambda x : (IntegerSafe(x[0]), x[1], x[2], x[3], x[4]))\n",
    "\n",
    "supervisor = sc.textFile(\"../Data/SF_business/supervisor_sf.csv\")\\\n",
    "               .map(lambda x : x.split(\",\"))\\\n",
    "               .map(lambda x: (IntegerSafe(x[0]), IntegerSafe(x[1])))\n",
    "              \n",
    "\n",
    "business_schema = StructType([ StructField(\"zip\", IntegerType(), True),\n",
    "                               StructField(\"name\", StringType(), False),\n",
    "                               StructField(\"street\", StringType(), True),\n",
    "                               StructField(\"city\", StringType(), True),\n",
    "                               StructField(\"state\", StringType(), True)\n",
    "                            ])\n",
    "\n",
    "supervisor_schema = StructType([ StructField(\"zip\", IntegerType(), False),\n",
    "                    StructField(\"id\", IntegerType(), False)\n",
    "                    ])\n",
    "\n",
    "business_df = ss.createDataFrame(business, business_schema)\n",
    "supervisor_df = ss.createDataFrame(supervisor, supervisor_schema)"
   ]
  },
  {
   "cell_type": "markdown",
   "metadata": {},
   "source": [
    "## inner joins"
   ]
  },
  {
   "cell_type": "code",
   "execution_count": 2,
   "metadata": {
    "ExecuteTime": {
     "end_time": "2021-01-31T23:44:07.660795Z",
     "start_time": "2021-01-31T23:44:03.791083Z"
    }
   },
   "outputs": [
    {
     "name": "stderr",
     "output_type": "stream",
     "text": [
      "[Stage 0:=============================>                             (1 + 1) / 2]\r"
     ]
    },
    {
     "name": "stdout",
     "output_type": "stream",
     "text": [
      "+-----+--------------------+--------------------+-------------+-----+---+\n",
      "|  zip|                name|              street|         city|state| id|\n",
      "+-----+--------------------+--------------------+-------------+-----+---+\n",
      "|94109|Stephens Institut...|1835-49 Van Ness Ave|San Francisco|   CA|  2|\n",
      "|94109|Stephens Institut...|1835-49 Van Ness Ave|San Francisco|   CA|  6|\n",
      "|94109|Stephens Institut...|1835-49 Van Ness Ave|San Francisco|   CA|  3|\n",
      "|94109|Stephens Institut...|1835-49 Van Ness Ave|San Francisco|   CA|  5|\n",
      "|94109|Stephens Institut...|        1055 Pine St|San Francisco|   CA|  2|\n",
      "+-----+--------------------+--------------------+-------------+-----+---+\n",
      "only showing top 5 rows\n",
      "\n"
     ]
    },
    {
     "name": "stderr",
     "output_type": "stream",
     "text": [
      "\r",
      "                                                                                \r"
     ]
    }
   ],
   "source": [
    "business_df.join(supervisor_df, 'zip').show(5)"
   ]
  },
  {
   "cell_type": "code",
   "execution_count": 3,
   "metadata": {
    "ExecuteTime": {
     "end_time": "2021-01-31T23:44:09.586256Z",
     "start_time": "2021-01-31T23:44:07.664940Z"
    }
   },
   "outputs": [
    {
     "name": "stderr",
     "output_type": "stream",
     "text": [
      "\r",
      "[Stage 5:>                                                          (0 + 2) / 2]\r"
     ]
    },
    {
     "name": "stdout",
     "output_type": "stream",
     "text": [
      "+-----+--------------------+--------------------+-------------+-----+-----+---+\n",
      "|  zip|                name|              street|         city|state|  zip| id|\n",
      "+-----+--------------------+--------------------+-------------+-----+-----+---+\n",
      "|94109|Stephens Institut...|1835-49 Van Ness Ave|San Francisco|   CA|94109|  2|\n",
      "|94109|Stephens Institut...|1835-49 Van Ness Ave|San Francisco|   CA|94109|  6|\n",
      "|94109|Stephens Institut...|1835-49 Van Ness Ave|San Francisco|   CA|94109|  3|\n",
      "|94109|Stephens Institut...|1835-49 Van Ness Ave|San Francisco|   CA|94109|  5|\n",
      "|94109|Stephens Institut...|        1055 Pine St|San Francisco|   CA|94109|  2|\n",
      "+-----+--------------------+--------------------+-------------+-----+-----+---+\n",
      "only showing top 5 rows\n",
      "\n"
     ]
    },
    {
     "name": "stderr",
     "output_type": "stream",
     "text": [
      "\r",
      "[Stage 5:=============================>                             (1 + 1) / 2]\r",
      "\r",
      "                                                                                \r"
     ]
    }
   ],
   "source": [
    "business_df.join(supervisor_df, business_df['zip'] == supervisor_df['zip']).show(5)"
   ]
  },
  {
   "cell_type": "code",
   "execution_count": 4,
   "metadata": {
    "ExecuteTime": {
     "end_time": "2021-01-31T23:44:11.101452Z",
     "start_time": "2021-01-31T23:44:09.590351Z"
    }
   },
   "outputs": [
    {
     "name": "stderr",
     "output_type": "stream",
     "text": [
      "\r",
      "[Stage 10:>                                                         (0 + 2) / 2]\r"
     ]
    },
    {
     "name": "stdout",
     "output_type": "stream",
     "text": [
      "+-----+--------------------+--------------------+-------------+-----+---+\n",
      "|  zip|                name|              street|         city|state| id|\n",
      "+-----+--------------------+--------------------+-------------+-----+---+\n",
      "|94109|Stephens Institut...|1835-49 Van Ness Ave|San Francisco|   CA|  2|\n",
      "|94109|Stephens Institut...|1835-49 Van Ness Ave|San Francisco|   CA|  6|\n",
      "|94109|Stephens Institut...|1835-49 Van Ness Ave|San Francisco|   CA|  3|\n",
      "|94109|Stephens Institut...|1835-49 Van Ness Ave|San Francisco|   CA|  5|\n",
      "|94109|Stephens Institut...|        1055 Pine St|San Francisco|   CA|  2|\n",
      "+-----+--------------------+--------------------+-------------+-----+---+\n",
      "only showing top 5 rows\n",
      "\n"
     ]
    },
    {
     "name": "stderr",
     "output_type": "stream",
     "text": [
      "\r",
      "                                                                                \r"
     ]
    }
   ],
   "source": [
    "business_df.join(supervisor_df, 'zip', 'inner').show(5)"
   ]
  },
  {
   "cell_type": "markdown",
   "metadata": {},
   "source": [
    "## outer joins"
   ]
  },
  {
   "cell_type": "code",
   "execution_count": 5,
   "metadata": {
    "ExecuteTime": {
     "end_time": "2021-01-31T23:44:12.601518Z",
     "start_time": "2021-01-31T23:44:11.103836Z"
    }
   },
   "outputs": [
    {
     "name": "stdout",
     "output_type": "stream",
     "text": [
      "+-----+--------------------+--------------------+-------------+-----+----+\n",
      "|  zip|                name|              street|         city|state|  id|\n",
      "+-----+--------------------+--------------------+-------------+-----+----+\n",
      "| 6002|      Integralis Inc|310 West Newberry Rd|   Bloomfield|   CT|null|\n",
      "|94105|Stephens Institut...|180 New Montgomer...|San Francisco|   CA|   6|\n",
      "|94105|Stephens Institut...|180 New Montgomer...|San Francisco|   CA|   3|\n",
      "|94105| Barney & Barney Llc|1 Market St Steua...|San Francisco|   CA|   6|\n",
      "|94105| Barney & Barney Llc|1 Market St Steua...|San Francisco|   CA|   3|\n",
      "+-----+--------------------+--------------------+-------------+-----+----+\n",
      "only showing top 5 rows\n",
      "\n"
     ]
    }
   ],
   "source": [
    "business_df.join(supervisor_df, 'zip', 'left_outer').show(5)"
   ]
  },
  {
   "cell_type": "code",
   "execution_count": 6,
   "metadata": {
    "ExecuteTime": {
     "end_time": "2021-01-31T23:44:14.061677Z",
     "start_time": "2021-01-31T23:44:12.603599Z"
    }
   },
   "outputs": [
    {
     "name": "stderr",
     "output_type": "stream",
     "text": [
      "\r",
      "[Stage 20:>                                                         (0 + 2) / 2]\r"
     ]
    },
    {
     "name": "stdout",
     "output_type": "stream",
     "text": [
      "+-----+--------------------+------------------+-------------+-----+---+\n",
      "|  zip|                name|            street|         city|state| id|\n",
      "+-----+--------------------+------------------+-------------+-----+---+\n",
      "|94115|Okamura Ricky & R...|  1747 Buchanan St|San Francisco|   CA|  5|\n",
      "|94115| Brooks Brothers Inc|  2223 Fillmore St|San Francisco|   CA|  5|\n",
      "|94115|      Cournale Clyde|1755 Mcallister St|San Francisco|   CA|  5|\n",
      "|94115|          Jo Pos Inc|  2200 Fillmore St|San Francisco|   CA|  5|\n",
      "|94115|Del Camp Investme...|1544 Mcallister St|San Francisco|   CA|  5|\n",
      "+-----+--------------------+------------------+-------------+-----+---+\n",
      "only showing top 5 rows\n",
      "\n"
     ]
    },
    {
     "name": "stderr",
     "output_type": "stream",
     "text": [
      "\r",
      "                                                                                \r"
     ]
    }
   ],
   "source": [
    "business_df.join(supervisor_df, 'zip', 'right_outer').show(5)"
   ]
  },
  {
   "cell_type": "markdown",
   "metadata": {},
   "source": [
    "## leftsemi join"
   ]
  },
  {
   "cell_type": "code",
   "execution_count": 7,
   "metadata": {
    "ExecuteTime": {
     "end_time": "2021-01-31T23:44:15.476385Z",
     "start_time": "2021-01-31T23:44:14.063907Z"
    }
   },
   "outputs": [
    {
     "name": "stderr",
     "output_type": "stream",
     "text": [
      "\r",
      "[Stage 25:>                                                         (0 + 2) / 2]\r"
     ]
    },
    {
     "name": "stdout",
     "output_type": "stream",
     "text": [
      "+-----+--------------------+--------------------+-------------+-----+\n",
      "|  zip|                name|              street|         city|state|\n",
      "+-----+--------------------+--------------------+-------------+-----+\n",
      "|94109|Stephens Institut...|1835-49 Van Ness Ave|San Francisco|   CA|\n",
      "|94109|Stephens Institut...|        1055 Pine St|San Francisco|   CA|\n",
      "|94109|     Alioto F Co Inc|    440 Jefferson St|San Francisco|   CA|\n",
      "|94109|     Haines Robert D|   786-792 Sutter St|San Francisco|   CA|\n",
      "|94109|Avis Rent A Car S...|         675 Post St|San Francisco|   CA|\n",
      "+-----+--------------------+--------------------+-------------+-----+\n",
      "only showing top 5 rows\n",
      "\n"
     ]
    },
    {
     "name": "stderr",
     "output_type": "stream",
     "text": [
      "\r",
      "                                                                                \r"
     ]
    }
   ],
   "source": [
    "business_df.join(supervisor_df, 'zip', 'leftsemi').show(5)"
   ]
  },
  {
   "cell_type": "code",
   "execution_count": 8,
   "metadata": {
    "ExecuteTime": {
     "end_time": "2021-01-31T23:44:16.475183Z",
     "start_time": "2021-01-31T23:44:15.525171Z"
    }
   },
   "outputs": [],
   "source": [
    "ss.stop()"
   ]
  }
 ],
 "metadata": {
  "kernelspec": {
   "display_name": "Python 3 (ipykernel)",
   "language": "python",
   "name": "python3"
  },
  "language_info": {
   "codemirror_mode": {
    "name": "ipython",
    "version": 3
   },
   "file_extension": ".py",
   "mimetype": "text/x-python",
   "name": "python",
   "nbconvert_exporter": "python",
   "pygments_lexer": "ipython3",
   "version": "3.7.11"
  },
  "varInspector": {
   "cols": {
    "lenName": 16,
    "lenType": 16,
    "lenVar": 40
   },
   "kernels_config": {
    "python": {
     "delete_cmd_postfix": "",
     "delete_cmd_prefix": "del ",
     "library": "var_list.py",
     "varRefreshCmd": "print(var_dic_list())"
    },
    "r": {
     "delete_cmd_postfix": ") ",
     "delete_cmd_prefix": "rm(",
     "library": "var_list.r",
     "varRefreshCmd": "cat(var_dic_list()) "
    }
   },
   "types_to_exclude": [
    "module",
    "function",
    "builtin_function_or_method",
    "instance",
    "_Feature"
   ],
   "window_display": false
  }
 },
 "nbformat": 4,
 "nbformat_minor": 2
}
