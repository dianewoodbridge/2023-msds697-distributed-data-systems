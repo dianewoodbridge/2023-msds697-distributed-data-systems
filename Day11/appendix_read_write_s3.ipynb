{
 "cells": [
  {
   "cell_type": "markdown",
   "id": "f50b7f26",
   "metadata": {},
   "source": [
    "## Configure Spark Session"
   ]
  },
  {
   "cell_type": "markdown",
   "id": "96a72495",
   "metadata": {},
   "source": [
    "## add the jar :\n",
    "    * hadoop-aws : Make sure add a compatible hadoop-aws and aws-java-sdk-bundle.\n",
    "    https://mvnrepository.com/artifact/com.amazonaws/aws-java-sdk\n",
    "    \n",
    "    *  Troubleshooting\n",
    "    https://github.com/apache/hadoop/blob/trunk/hadoop-tools/hadoop-aws/src/site/markdown/tools/hadoop-aws/troubleshooting_s3a.md"
   ]
  },
  {
   "cell_type": "code",
   "execution_count": 1,
   "id": "ef46386a",
   "metadata": {},
   "outputs": [
    {
     "name": "stdout",
     "output_type": "stream",
     "text": [
      ":: loading settings :: url = jar:file:/Users/dwoodbridge/opt/anaconda3/envs/DistributedComputing/lib/python3.7/site-packages/pyspark/jars/ivy-2.5.0.jar!/org/apache/ivy/core/settings/ivysettings.xml\n"
     ]
    },
    {
     "name": "stderr",
     "output_type": "stream",
     "text": [
      "Ivy Default Cache set to: /Users/dwoodbridge/.ivy2/cache\n",
      "The jars for the packages stored in: /Users/dwoodbridge/.ivy2/jars\n",
      "com.amazonaws#aws-java-sdk-bundle added as a dependency\n",
      "org.apache.hadoop#hadoop-aws added as a dependency\n",
      ":: resolving dependencies :: org.apache.spark#spark-submit-parent-be53b447-f29b-4bf6-9767-226be0a92573;1.0\n",
      "\tconfs: [default]\n",
      "\tfound com.amazonaws#aws-java-sdk-bundle;1.11.901 in central\n",
      "\tfound org.apache.hadoop#hadoop-aws;3.3.1 in central\n",
      "\tfound org.wildfly.openssl#wildfly-openssl;1.0.7.Final in central\n",
      ":: resolution report :: resolve 152ms :: artifacts dl 10ms\n",
      "\t:: modules in use:\n",
      "\tcom.amazonaws#aws-java-sdk-bundle;1.11.901 from central in [default]\n",
      "\torg.apache.hadoop#hadoop-aws;3.3.1 from central in [default]\n",
      "\torg.wildfly.openssl#wildfly-openssl;1.0.7.Final from central in [default]\n",
      "\t---------------------------------------------------------------------\n",
      "\t|                  |            modules            ||   artifacts   |\n",
      "\t|       conf       | number| search|dwnlded|evicted|| number|dwnlded|\n",
      "\t---------------------------------------------------------------------\n",
      "\t|      default     |   3   |   0   |   0   |   0   ||   3   |   0   |\n",
      "\t---------------------------------------------------------------------\n",
      ":: retrieving :: org.apache.spark#spark-submit-parent-be53b447-f29b-4bf6-9767-226be0a92573\n",
      "\tconfs: [default]\n",
      "\t0 artifacts copied, 3 already retrieved (0kB/6ms)\n",
      "22/02/21 08:20:10 WARN NativeCodeLoader: Unable to load native-hadoop library for your platform... using builtin-java classes where applicable\n",
      "Using Spark's default log4j profile: org/apache/spark/log4j-defaults.properties\n",
      "Setting default log level to \"WARN\".\n",
      "To adjust logging level use sc.setLogLevel(newLevel). For SparkR, use setLogLevel(newLevel).\n",
      "22/02/21 08:20:10 WARN Utils: Service 'SparkUI' could not bind on port 4040. Attempting port 4041.\n",
      "22/02/21 08:20:10 WARN Utils: Service 'SparkUI' could not bind on port 4041. Attempting port 4042.\n",
      "22/02/21 08:20:10 WARN Utils: Service 'SparkUI' could not bind on port 4042. Attempting port 4043.\n",
      "22/02/21 08:20:10 WARN Utils: Service 'SparkUI' could not bind on port 4043. Attempting port 4044.\n",
      "22/02/21 08:20:10 WARN Utils: Service 'SparkUI' could not bind on port 4044. Attempting port 4045.\n",
      "22/02/21 08:20:10 WARN Utils: Service 'SparkUI' could not bind on port 4045. Attempting port 4046.\n",
      "22/02/21 08:20:10 WARN Utils: Service 'SparkUI' could not bind on port 4046. Attempting port 4047.\n",
      "22/02/21 08:20:10 WARN Utils: Service 'SparkUI' could not bind on port 4047. Attempting port 4048.\n"
     ]
    }
   ],
   "source": [
    "from pyspark.sql import SparkSession\n",
    "from pyspark.sql.types import *\n",
    "\n",
    "#https://mvnrepository.com/artifact/org.apache.hadoop/hadoop-aws/3.3.1 for pyspark 3.2.0\n",
    "ss = SparkSession.builder.config(\"spark.jars.packages\", \"com.amazonaws:aws-java-sdk-bundle:1.11.901,\\\n",
    "                                                         org.apache.hadoop:hadoop-aws:3.3.1\").getOrCreate()\n"
   ]
  },
  {
   "cell_type": "code",
   "execution_count": 2,
   "id": "6f42ae3c",
   "metadata": {
    "ExecuteTime": {
     "end_time": "2021-02-01T00:49:47.835278Z",
     "start_time": "2021-02-01T00:49:47.824892Z"
    }
   },
   "outputs": [
    {
     "data": {
      "text/html": [
       "\n",
       "            <div>\n",
       "                <p><b>SparkSession - in-memory</b></p>\n",
       "                \n",
       "        <div>\n",
       "            <p><b>SparkContext</b></p>\n",
       "\n",
       "            <p><a href=\"http://192.168.0.126:4048\">Spark UI</a></p>\n",
       "\n",
       "            <dl>\n",
       "              <dt>Version</dt>\n",
       "                <dd><code>v3.2.0</code></dd>\n",
       "              <dt>Master</dt>\n",
       "                <dd><code>local[*]</code></dd>\n",
       "              <dt>AppName</dt>\n",
       "                <dd><code>pyspark-shell</code></dd>\n",
       "            </dl>\n",
       "        </div>\n",
       "        \n",
       "            </div>\n",
       "        "
      ],
      "text/plain": [
       "<pyspark.sql.session.SparkSession at 0x7fce10ceea50>"
      ]
     },
     "execution_count": 2,
     "metadata": {},
     "output_type": "execute_result"
    }
   ],
   "source": [
    "ss"
   ]
  },
  {
   "cell_type": "code",
   "execution_count": 3,
   "id": "1ebd0836",
   "metadata": {
    "ExecuteTime": {
     "end_time": "2021-02-01T00:50:09.864615Z",
     "start_time": "2021-02-01T00:50:09.860898Z"
    }
   },
   "outputs": [],
   "source": [
    "ss._jsc.hadoopConfiguration().set(\"fs.s3a.access.key\",\"UPDATE\")\n",
    "ss._jsc.hadoopConfiguration().set(\"fs.s3a.secret.key\",\"UPDATE\")"
   ]
  },
  {
   "cell_type": "code",
   "execution_count": 4,
   "id": "41efbfa9",
   "metadata": {
    "ExecuteTime": {
     "end_time": "2021-02-01T00:50:17.202690Z",
     "start_time": "2021-02-01T00:50:10.474343Z"
    }
   },
   "outputs": [
    {
     "name": "stderr",
     "output_type": "stream",
     "text": [
      "22/02/21 08:20:15 WARN MetricsConfig: Cannot locate configuration: tried hadoop-metrics2-s3a-file-system.properties,hadoop-metrics2.properties\n",
      "                                                                                \r"
     ]
    }
   ],
   "source": [
    "world_bank = ss.read.json(\"s3a://usfca-msan694/world_bank_project.json\")"
   ]
  },
  {
   "cell_type": "code",
   "execution_count": 5,
   "id": "d5aaebd2",
   "metadata": {
    "ExecuteTime": {
     "end_time": "2021-02-01T00:50:17.918858Z",
     "start_time": "2021-02-01T00:50:17.204290Z"
    }
   },
   "outputs": [
    {
     "name": "stderr",
     "output_type": "stream",
     "text": [
      "22/02/21 08:20:26 WARN package: Truncated the string representation of a plan since it was too large. This behavior can be adjusted by setting 'spark.sql.debug.maxToStringFields'.\n"
     ]
    },
    {
     "name": "stdout",
     "output_type": "stream",
     "text": [
      "+--------------------+----------+--------------------+--------------------+--------------------+--------------------+--------------------+-----------+--------------------+------------------+--------------------+------------------------+--------+-----------+-------+----------+--------------------+--------------------+----------------+---------------+--------------------+--------------------+--------------------+--------------------+-----------+--------+--------------------+---------------+--------------------+--------------------+--------------------+--------------------+--------------------+--------------------+--------------------+--------------------+--------------------+--------------------+--------------------+--------------------+-----------+------+------+--------------------+--------------------+--------------------+-----------+---------+------------+--------------------+\n",
      "|                 _id|approvalfy|board_approval_month|   boardapprovaldate|            borrower|         closingdate|    country_namecode|countrycode|         countryname|  countryshortname|               docty|envassesmentcategorycode|grantamt|ibrdcommamt|     id|idacommamt|           impagency|        lendinginstr|lendinginstrtype|lendprojectcost| majorsector_percent|   mjsector_namecode|             mjtheme|    mjtheme_namecode|mjthemecode|prodline|        prodlinetext|productlinetype|    project_abstract|        project_name|         projectdocs|projectfinancialtype|projectstatusdisplay|          regionname|              sector|             sector1|             sector2|             sector3|             sector4|     sector_namecode| sectorcode|source|status|supplementprojectflg|              theme1|      theme_namecode|  themecode| totalamt|totalcommamt|                 url|\n",
      "+--------------------+----------+--------------------+--------------------+--------------------+--------------------+--------------------+-----------+--------------------+------------------+--------------------+------------------------+--------+-----------+-------+----------+--------------------+--------------------+----------------+---------------+--------------------+--------------------+--------------------+--------------------+-----------+--------+--------------------+---------------+--------------------+--------------------+--------------------+--------------------+--------------------+--------------------+--------------------+--------------------+--------------------+--------------------+--------------------+--------------------+-----------+------+------+--------------------+--------------------+--------------------+-----------+---------+------------+--------------------+\n",
      "|{52b213b38594d8a2...|      1999|            November|2013-11-12T00:00:00Z|FEDERAL DEMOCRATI...|2018-07-07T00:00:00Z|Federal Democrati...|         ET|Federal Democrati...|          Ethiopia|Project Informati...|                       C|       0|          0|P129828| 130000000|MINISTRY OF EDUCA...|Investment Projec...|              IN|      550000000|[{Education, 46},...|[{EX, Education},...| [Human development]|[{8, Human develo...|       8,11|      PE|            IBRD/IDA|              L|{The development ...|Ethiopia General ...|[{28-AUG-2013, PI...|                 IDA|              Active|              Africa|[{Primary educati...|{Primary educatio...|{Secondary educat...|{Public administr...|{Tertiary educati...|[{EP, Primary edu...|ET,BS,ES,EP|  IBRD|Active|                   N|{Education for al...|[{65, Education f...|         65|130000000|   130000000|http://www.worldb...|\n",
      "|{52b213b38594d8a2...|      2015|            November|2013-11-04T00:00:00Z|GOVERNMENT OF TUN...|                null|Republic of Tunis...|         TN| Republic of Tunisia|           Tunisia|Project Informati...|                       C| 4700000|          0|P144674|         0| MINISTRY OF FINANCE|Specific Investme...|              IN|        5700000|[{Public Administ...|[{BX, Public Admi...|[Economic managem...|[{1, Economic man...|        1,6|      RE|Recipient Execute...|              L|                null|TN: DTF Social Pr...|[{29-MAR-2013, PI...|               OTHER|              Active|Middle East and N...|[{Public administ...|{Public administr...|{General public a...|                null|                null|[{BS, Public admi...|      BZ,BS|  IBRD|Active|                   N|{Other economic m...|[{24, Other econo...|      54,24|        0|     4700000|http://www.worldb...|\n",
      "|{52b213b38594d8a2...|      2014|            November|2013-11-01T00:00:00Z|MINISTRY OF FINAN...|                null|         Tuvalu!$!TV|         TV|              Tuvalu|            Tuvalu|Resettlement Plan...|                       B|       0|          0|P145310|   6060000|MINISTRY OF TRANS...|Investment Projec...|              IN|        6060000|[{Transportation,...|[{TX, Transportat...|[Trade and integr...|[{5, Trade and in...|   5,2,11,6|      PE|            IBRD/IDA|              L|                null|Tuvalu Aviation I...|[{21-OCT-2013, RP...|                 IDA|              Active|East Asia and Pac...|[{Rural and Inter...|{Rural and Inter-...|                null|                null|                null|[{TI, Rural and I...|         TI|  IBRD|Active|                   Y|{Regional integra...|[{47, Regional in...|52,81,25,47|  6060000|     6060000|http://www.worldb...|\n",
      "|{52b213b38594d8a2...|      2014|             October|2013-10-31T00:00:00Z|MIN. OF PLANNING ...|                null|Republic of Yemen...|         RY|   Republic of Yemen|Yemen, Republic of|Procurement Plan,...|                       C| 1500000|          0|P144665|         0|LABOR INTENSIVE P...|Technical Assista...|              IN|        1500000|[{Health and othe...|[{JX, Health and ...|[Social dev/gende...|[{7, Social dev/g...|        7,7|      RE|Recipient Execute...|              L|                null|Gov't and Civil S...|[{15-MAY-2013, PR...|               OTHER|              Active|Middle East and N...|[{Other social se...|{Other social ser...|                null|                null|                null|[{JB, Other socia...|         JB|  IBRD|Active|                   N|{Participation an...|[{57, Participati...|      59,57|        0|     1500000|http://www.worldb...|\n",
      "|{52b213b38594d8a2...|      2014|             October|2013-10-31T00:00:00Z| MINISTRY OF FINANCE|2019-04-30T00:00:00Z|Kingdom of Lesoth...|         LS|  Kingdom of Lesotho|           Lesotho|Project Informati...|                       B|       0|          0|P144933|  13100000|MINISTRY OF TRADE...|Investment Projec...|              IN|       15000000|[{Industry and tr...|[{YX, Industry an...|[Trade and integr...|[{5, Trade and in...|        5,4|      PE|            IBRD/IDA|              L|{The development ...|Second Private Se...|[{06-SEP-2013, PI...|                 IDA|              Active|              Africa|[{General industr...|{General industry...|{Other industry, 40}|   {SME Finance, 10}|                null|[{YZ, General ind...|   FH,YW,YZ|  IBRD|Active|                   N|{Export developme...|[{45, Export deve...|      41,45| 13100000|    13100000|http://www.worldb...|\n",
      "+--------------------+----------+--------------------+--------------------+--------------------+--------------------+--------------------+-----------+--------------------+------------------+--------------------+------------------------+--------+-----------+-------+----------+--------------------+--------------------+----------------+---------------+--------------------+--------------------+--------------------+--------------------+-----------+--------+--------------------+---------------+--------------------+--------------------+--------------------+--------------------+--------------------+--------------------+--------------------+--------------------+--------------------+--------------------+--------------------+--------------------+-----------+------+------+--------------------+--------------------+--------------------+-----------+---------+------------+--------------------+\n",
      "only showing top 5 rows\n",
      "\n"
     ]
    }
   ],
   "source": [
    "world_bank.show(5)"
   ]
  },
  {
   "cell_type": "code",
   "execution_count": 6,
   "id": "2dac5aef",
   "metadata": {
    "ExecuteTime": {
     "end_time": "2021-02-01T00:50:33.429052Z",
     "start_time": "2021-02-01T00:50:22.574469Z"
    }
   },
   "outputs": [],
   "source": [
    "# You can also write to s3.\n",
    "# world_bank.write.parquet(\"s3a://usfca-msan694/world_bank_project\")"
   ]
  },
  {
   "cell_type": "code",
   "execution_count": 7,
   "id": "8a051323",
   "metadata": {
    "ExecuteTime": {
     "end_time": "2021-02-01T00:50:52.804612Z",
     "start_time": "2021-02-01T00:50:52.356918Z"
    }
   },
   "outputs": [],
   "source": [
    "ss.stop()"
   ]
  },
  {
   "cell_type": "code",
   "execution_count": null,
   "id": "8cedc11a",
   "metadata": {},
   "outputs": [],
   "source": []
  },
  {
   "cell_type": "code",
   "execution_count": null,
   "id": "735b848e",
   "metadata": {},
   "outputs": [],
   "source": []
  }
 ],
 "metadata": {
  "kernelspec": {
   "display_name": "Python 3 (ipykernel)",
   "language": "python",
   "name": "python3"
  },
  "language_info": {
   "codemirror_mode": {
    "name": "ipython",
    "version": 3
   },
   "file_extension": ".py",
   "mimetype": "text/x-python",
   "name": "python",
   "nbconvert_exporter": "python",
   "pygments_lexer": "ipython3",
   "version": "3.7.11"
  },
  "varInspector": {
   "cols": {
    "lenName": 16,
    "lenType": 16,
    "lenVar": 40
   },
   "kernels_config": {
    "python": {
     "delete_cmd_postfix": "",
     "delete_cmd_prefix": "del ",
     "library": "var_list.py",
     "varRefreshCmd": "print(var_dic_list())"
    },
    "r": {
     "delete_cmd_postfix": ") ",
     "delete_cmd_prefix": "rm(",
     "library": "var_list.r",
     "varRefreshCmd": "cat(var_dic_list()) "
    }
   },
   "types_to_exclude": [
    "module",
    "function",
    "builtin_function_or_method",
    "instance",
    "_Feature"
   ],
   "window_display": false
  }
 },
 "nbformat": 4,
 "nbformat_minor": 5
}
