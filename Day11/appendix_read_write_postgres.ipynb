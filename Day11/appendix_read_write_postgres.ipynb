{
 "cells": [
  {
   "cell_type": "markdown",
   "metadata": {},
   "source": [
    "## Configure Spark Session"
   ]
  },
  {
   "cell_type": "code",
   "execution_count": 1,
   "metadata": {
    "ExecuteTime": {
     "end_time": "2021-02-01T00:32:57.215871Z",
     "start_time": "2021-02-01T00:32:53.259833Z"
    }
   },
   "outputs": [],
   "source": [
    "from pyspark.sql import SparkSession\n",
    "from pyspark.sql.types import *\n",
    "\n",
    "ss = SparkSession.builder.config('spark.driver.extraClassPath',\n",
    "                                 'postgresql-42.2.18.jar').getOrCreate()"
   ]
  },
  {
   "cell_type": "code",
   "execution_count": 2,
   "metadata": {
    "ExecuteTime": {
     "end_time": "2021-02-01T00:32:57.221391Z",
     "start_time": "2021-02-01T00:32:57.218723Z"
    }
   },
   "outputs": [],
   "source": [
    "endpoint = 'msds694.cmxsootjz10m.us-west-2.rds.amazonaws.com'\n",
    "database = 'postgres'\n",
    "table = 'activity_code'\n",
    "properties = {'user': 'students', 'password': 'msdsstudents'}\n",
    "url = 'jdbc:postgresql://%s/%s' % (endpoint, database)"
   ]
  },
  {
   "cell_type": "markdown",
   "metadata": {},
   "source": [
    "## Read from AWS RDS "
   ]
  },
  {
   "cell_type": "code",
   "execution_count": 3,
   "metadata": {
    "ExecuteTime": {
     "end_time": "2021-02-01T00:33:03.066124Z",
     "start_time": "2021-02-01T00:32:58.912312Z"
    }
   },
   "outputs": [
    {
     "name": "stdout",
     "output_type": "stream",
     "text": [
      "+--------------------+----+\n",
      "|            activity|code|\n",
      "+--------------------+----+\n",
      "|             Walking|   A|\n",
      "|             Jogging|   B|\n",
      "|              Stairs|   C|\n",
      "|             Sitting|   D|\n",
      "|            Standing|   E|\n",
      "|              Typing|   F|\n",
      "|      Brushing Teeth|   G|\n",
      "|         Eating Soup|   H|\n",
      "|        Eating Chips|   I|\n",
      "|        Eating Pasta|   J|\n",
      "|   Drinking from Cup|   K|\n",
      "|     Eating Sandwich|   L|\n",
      "| Kicking Soccer Ball|   M|\n",
      "|Playing Catch w/T...|   O|\n",
      "|Dribblinlg Basket...|   P|\n",
      "|             Writing|   Q|\n",
      "|            Clapping|   R|\n",
      "|     Folding Clothes|   S|\n",
      "+--------------------+----+\n",
      "\n"
     ]
    }
   ],
   "source": [
    "activity_code = ss.read.jdbc(url=url, table=table, properties=properties)\n",
    "activity_code.show()"
   ]
  },
  {
   "cell_type": "markdown",
   "metadata": {},
   "source": [
    "## Write to AWS RDS"
   ]
  },
  {
   "cell_type": "code",
   "execution_count": 8,
   "metadata": {
    "ExecuteTime": {
     "end_time": "2021-02-01T00:35:53.405644Z",
     "start_time": "2021-02-01T00:35:53.381027Z"
    }
   },
   "outputs": [],
   "source": [
    "schema = StructType([StructField(\"zip\", IntegerType(), True),\n",
    "                     StructField(\"name\", StringType(), False),\n",
    "                     StructField(\"street\", StringType(), True),\n",
    "                     StructField(\"city\", StringType(), True),\n",
    "                     StructField(\"state\", StringType(), True)\n",
    "                     ])\n",
    "\n",
    "business_df = ss.read.csv(\n",
    "    \"../Data/SF_business/filtered_registered_business_sf.csv\", schema)"
   ]
  },
  {
   "cell_type": "code",
   "execution_count": 9,
   "metadata": {
    "ExecuteTime": {
     "end_time": "2021-02-01T00:36:17.641375Z",
     "start_time": "2021-02-01T00:35:54.056223Z"
    }
   },
   "outputs": [],
   "source": [
    "table = 'business'\n",
    "business_df.write.jdbc(url=url, table=table, properties=properties)"
   ]
  },
  {
   "cell_type": "code",
   "execution_count": 10,
   "metadata": {
    "ExecuteTime": {
     "end_time": "2021-02-01T00:36:57.307794Z",
     "start_time": "2021-02-01T00:36:57.059477Z"
    }
   },
   "outputs": [],
   "source": [
    "ss.stop()"
   ]
  },
  {
   "cell_type": "code",
   "execution_count": null,
   "metadata": {},
   "outputs": [],
   "source": []
  }
 ],
 "metadata": {
  "kernelspec": {
   "display_name": "Python 3",
   "language": "python",
   "name": "python3"
  },
  "language_info": {
   "codemirror_mode": {
    "name": "ipython",
    "version": 3
   },
   "file_extension": ".py",
   "mimetype": "text/x-python",
   "name": "python",
   "nbconvert_exporter": "python",
   "pygments_lexer": "ipython3",
   "version": "3.8.2"
  }
 },
 "nbformat": 4,
 "nbformat_minor": 5
}
