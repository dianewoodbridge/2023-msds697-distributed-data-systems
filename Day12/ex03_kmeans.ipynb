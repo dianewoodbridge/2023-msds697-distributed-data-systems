{
 "cells": [
  {
   "cell_type": "code",
   "execution_count": 1,
   "metadata": {
    "ExecuteTime": {
     "end_time": "2021-02-13T22:40:05.256426Z",
     "start_time": "2021-02-13T22:40:01.968019Z"
    }
   },
   "outputs": [
    {
     "name": "stderr",
     "output_type": "stream",
     "text": [
      "Using Spark's default log4j profile: org/apache/spark/log4j-defaults.properties\n",
      "Setting default log level to \"WARN\".\n",
      "To adjust logging level use sc.setLogLevel(newLevel). For SparkR, use setLogLevel(newLevel).\n",
      "22/02/24 05:32:02 WARN NativeCodeLoader: Unable to load native-hadoop library for your platform... using builtin-java classes where applicable\n",
      "22/02/24 05:32:03 WARN Utils: Service 'SparkUI' could not bind on port 4040. Attempting port 4041.\n"
     ]
    }
   ],
   "source": [
    "from pyspark.sql import SparkSession\n",
    "from pyspark.sql.types import *\n",
    "ss = SparkSession.builder.getOrCreate()\n",
    "sc = ss.sparkContext"
   ]
  },
  {
   "cell_type": "markdown",
   "metadata": {},
   "source": [
    "## Create dataframe\n",
    "https://spark.apache.org/docs/latest/api/python/pyspark.ml.html?highlight=kmeans#pyspark.ml.clustering.KMeans"
   ]
  },
  {
   "cell_type": "code",
   "execution_count": 2,
   "metadata": {
    "ExecuteTime": {
     "end_time": "2021-02-13T22:40:07.065451Z",
     "start_time": "2021-02-13T22:40:05.258852Z"
    }
   },
   "outputs": [
    {
     "name": "stderr",
     "output_type": "stream",
     "text": [
      "                                                                                \r"
     ]
    },
    {
     "data": {
      "text/plain": [
       "[[47.0,\n",
       "  100.0,\n",
       "  27.0,\n",
       "  81.0,\n",
       "  57.0,\n",
       "  37.0,\n",
       "  26.0,\n",
       "  0.0,\n",
       "  0.0,\n",
       "  23.0,\n",
       "  56.0,\n",
       "  53.0,\n",
       "  100.0,\n",
       "  90.0,\n",
       "  40.0,\n",
       "  98.0,\n",
       "  8.0]]"
      ]
     },
     "execution_count": 2,
     "metadata": {},
     "output_type": "execute_result"
    }
   ],
   "source": [
    "#Load the data and create an RDD (16 pixels and label)\n",
    "pen_raw = sc.textFile(\"../Data/penbased.dat\", 4)\\\n",
    "            .map(lambda x:  x.split(\", \"))\\\n",
    "            .map(lambda row: [float(x) for x in row])\n",
    "pen_raw.take(1)"
   ]
  },
  {
   "cell_type": "code",
   "execution_count": 3,
   "metadata": {
    "ExecuteTime": {
     "end_time": "2021-02-13T22:40:08.910632Z",
     "start_time": "2021-02-13T22:40:07.067726Z"
    }
   },
   "outputs": [],
   "source": [
    "#Create a DataFrame\n",
    "from pyspark.sql.types import *\n",
    "\n",
    "penschema = StructType([\n",
    "    StructField(\"pix1\",DoubleType(),True),\n",
    "    StructField(\"pix2\",DoubleType(),True),\n",
    "    StructField(\"pix3\",DoubleType(),True),\n",
    "    StructField(\"pix4\",DoubleType(),True),\n",
    "    StructField(\"pix5\",DoubleType(),True),\n",
    "    StructField(\"pix6\",DoubleType(),True),\n",
    "    StructField(\"pix7\",DoubleType(),True),\n",
    "    StructField(\"pix8\",DoubleType(),True),\n",
    "    StructField(\"pix9\",DoubleType(),True),\n",
    "    StructField(\"pix10\",DoubleType(),True),\n",
    "    StructField(\"pix11\",DoubleType(),True),\n",
    "    StructField(\"pix12\",DoubleType(),True),\n",
    "    StructField(\"pix13\",DoubleType(),True),\n",
    "    StructField(\"pix14\",DoubleType(),True),\n",
    "    StructField(\"pix15\",DoubleType(),True),\n",
    "    StructField(\"pix16\",DoubleType(),True),\n",
    "    StructField(\"label\",DoubleType(),True)\n",
    "])\n",
    "\n",
    "dfpen = ss.createDataFrame(pen_raw, penschema)"
   ]
  },
  {
   "cell_type": "code",
   "execution_count": 4,
   "metadata": {
    "ExecuteTime": {
     "end_time": "2021-02-13T22:40:09.736842Z",
     "start_time": "2021-02-13T22:40:08.911965Z"
    }
   },
   "outputs": [
    {
     "name": "stdout",
     "output_type": "stream",
     "text": [
      "+-----+-----+----+-----+-----+-----+-----+-----+-----+-----+-----+-----+-----+-----+-----+-----+-----+\n",
      "| pix1| pix2|pix3| pix4| pix5| pix6| pix7| pix8| pix9|pix10|pix11|pix12|pix13|pix14|pix15|pix16|label|\n",
      "+-----+-----+----+-----+-----+-----+-----+-----+-----+-----+-----+-----+-----+-----+-----+-----+-----+\n",
      "| 47.0|100.0|27.0| 81.0| 57.0| 37.0| 26.0|  0.0|  0.0| 23.0| 56.0| 53.0|100.0| 90.0| 40.0| 98.0|  8.0|\n",
      "|  0.0| 89.0|27.0|100.0| 42.0| 75.0| 29.0| 45.0| 15.0| 15.0| 37.0|  0.0| 69.0|  2.0|100.0|  6.0|  2.0|\n",
      "|  0.0| 57.0|31.0| 68.0| 72.0| 90.0|100.0|100.0| 76.0| 75.0| 50.0| 51.0| 28.0| 25.0| 16.0|  0.0|  1.0|\n",
      "|  0.0|100.0| 7.0| 92.0|  5.0| 68.0| 19.0| 45.0| 86.0| 34.0|100.0| 45.0| 74.0| 23.0| 67.0|  0.0|  4.0|\n",
      "|  0.0| 67.0|49.0| 83.0|100.0|100.0| 81.0| 80.0| 60.0| 60.0| 40.0| 40.0| 33.0| 20.0| 47.0|  0.0|  1.0|\n",
      "|100.0|100.0|88.0| 99.0| 49.0| 74.0| 17.0| 47.0|  0.0| 16.0| 37.0|  0.0| 73.0| 16.0| 20.0| 20.0|  6.0|\n",
      "|  0.0|100.0| 3.0| 72.0| 26.0| 35.0| 85.0| 35.0|100.0| 71.0| 73.0| 97.0| 65.0| 49.0| 66.0|  0.0|  4.0|\n",
      "|  0.0| 39.0| 2.0| 62.0| 11.0|  5.0| 63.0|  0.0|100.0| 43.0| 89.0| 99.0| 36.0|100.0|  0.0| 57.0|  0.0|\n",
      "| 13.0| 89.0|12.0| 50.0| 72.0| 38.0| 56.0|  0.0|  4.0| 17.0|  0.0| 61.0| 32.0| 94.0|100.0|100.0|  5.0|\n",
      "| 74.0| 87.0|31.0|100.0|  0.0| 69.0| 62.0| 64.0|100.0| 79.0|100.0| 38.0| 84.0|  0.0| 18.0|  1.0|  9.0|\n",
      "| 48.0| 96.0|62.0| 65.0| 88.0| 27.0| 21.0|  0.0| 21.0| 33.0| 79.0| 67.0|100.0|100.0|  0.0| 85.0|  8.0|\n",
      "|100.0|100.0|72.0| 99.0| 36.0| 78.0| 34.0| 54.0| 79.0| 47.0| 64.0| 13.0| 19.0|  0.0|  0.0|  2.0|  5.0|\n",
      "| 91.0| 74.0|54.0|100.0|  0.0| 87.0| 23.0| 59.0| 81.0| 67.0|100.0| 39.0| 79.0|  4.0| 21.0|  0.0|  9.0|\n",
      "|  0.0| 85.0|38.0|100.0| 81.0| 88.0| 87.0| 50.0| 84.0| 12.0| 58.0|  0.0| 53.0| 22.0|100.0| 24.0|  7.0|\n",
      "| 35.0| 76.0|57.0|100.0|100.0| 92.0| 68.0| 66.0| 81.0| 38.0| 82.0|  9.0| 32.0|  0.0|  0.0| 17.0|  3.0|\n",
      "| 50.0| 84.0|66.0|100.0| 75.0| 75.0| 51.0| 51.0|100.0| 42.0| 97.0| 13.0| 49.0|  0.0|  0.0|  7.0|  3.0|\n",
      "| 99.0| 80.0|63.0|100.0| 25.0| 76.0| 79.0| 68.0|100.0| 62.0| 97.0| 23.0| 54.0|  0.0|  0.0| 16.0|  9.0|\n",
      "| 24.0| 66.0|43.0|100.0| 59.0| 65.0| 34.0| 28.0|  0.0|  1.0| 16.0| 11.0| 58.0|  0.0|100.0|  1.0|  2.0|\n",
      "|  0.0| 73.0|19.0| 99.0| 72.0|100.0| 70.0| 73.0| 32.0| 48.0|  5.0| 18.0| 46.0|  0.0|100.0|  0.0|  2.0|\n",
      "| 12.0| 77.0|20.0| 62.0| 78.0| 40.0| 50.0|  0.0|  1.0| 17.0|  0.0| 64.0| 23.0| 98.0|100.0|100.0|  5.0|\n",
      "+-----+-----+----+-----+-----+-----+-----+-----+-----+-----+-----+-----+-----+-----+-----+-----+-----+\n",
      "only showing top 20 rows\n",
      "\n"
     ]
    }
   ],
   "source": [
    "dfpen.show()"
   ]
  },
  {
   "cell_type": "markdown",
   "metadata": {},
   "source": [
    "## Create dataframe with a feature vector (Exclude the label)"
   ]
  },
  {
   "cell_type": "code",
   "execution_count": 5,
   "metadata": {
    "ExecuteTime": {
     "end_time": "2021-02-13T22:40:10.147711Z",
     "start_time": "2021-02-13T22:40:09.738174Z"
    }
   },
   "outputs": [],
   "source": [
    "# Merging the data with Vector Assembler.\n",
    "from pyspark.ml.feature import VectorAssembler\n",
    "va = VectorAssembler(outputCol=\"features\", inputCols=dfpen.columns[0:-1]) #except the last col.\n",
    "penlpoints = va.transform(dfpen)"
   ]
  },
  {
   "cell_type": "markdown",
   "metadata": {},
   "source": [
    "## Apply KMeans algorithm to the data frame"
   ]
  },
  {
   "cell_type": "code",
   "execution_count": 6,
   "metadata": {
    "ExecuteTime": {
     "end_time": "2021-02-13T22:40:13.873738Z",
     "start_time": "2021-02-13T22:40:10.149028Z"
    }
   },
   "outputs": [
    {
     "name": "stderr",
     "output_type": "stream",
     "text": [
      "22/02/24 05:32:16 WARN package: Truncated the string representation of a plan since it was too large. This behavior can be adjusted by setting 'spark.sql.debug.maxToStringFields'.\n"
     ]
    }
   ],
   "source": [
    "from pyspark.ml.clustering import KMeans\n",
    "kmeans =  KMeans(k = 10, maxIter = 200, tol = 0.1) \n",
    "# k = 10 as there are 10 different handwritten numbers.\n",
    "model = kmeans.fit(penlpoints)\n",
    "predictions = model.transform(penlpoints)"
   ]
  },
  {
   "cell_type": "markdown",
   "metadata": {},
   "source": [
    "## Evaluation"
   ]
  },
  {
   "cell_type": "code",
   "execution_count": 7,
   "metadata": {
    "ExecuteTime": {
     "end_time": "2021-02-13T22:40:13.901922Z",
     "start_time": "2021-02-13T22:40:13.881581Z"
    }
   },
   "outputs": [
    {
     "name": "stdout",
     "output_type": "stream",
     "text": [
      "Cluster Centers: \n",
      "[19.8019954  74.85648503 43.42056792 96.88641596 64.23944743 82.02762855\n",
      " 48.2133538  48.3200307  22.54643131 19.0590944  10.742901    7.7789716\n",
      " 52.20337682  5.67536454 97.96162701  5.70452801]\n",
      "[88.36734694 97.54761905 53.57568027 88.03146259 22.10884354 62.37159864\n",
      "  7.53401361 31.30952381 34.08333333  9.5        78.6420068  13.70748299\n",
      " 60.71768707 28.53316327 14.04846939 22.52380952]\n",
      "[4.80693842e+01 9.64891587e+01 2.33018213e+01 7.99765828e+01\n",
      " 3.57675629e+00 5.47701648e+01 4.38204683e+01 4.63616652e+01\n",
      " 8.67450130e+01 5.51257589e+01 8.74249783e+01 5.97146574e+01\n",
      " 7.18933218e+01 3.03391154e+01 6.03052905e+01 9.45359931e-02]\n",
      "[ 3.98775056 62.40757238 30.93095768 73.60356347 72.68040089 89.90757238\n",
      " 89.47216036 93.67371938 77.68262806 73.44432071 70.4688196  49.76614699\n",
      " 56.48997773 23.72939866 49.79732739  0.92761693]\n",
      "[11.21958457 87.22156281 53.1859545  98.61424332 77.41839763 80.21463897\n",
      " 67.12858556 42.78437191 51.6983185   7.59940653 24.57665678 11.86251236\n",
      " 34.19386746 33.77546983 89.8793274  40.56874382]\n",
      "[21.36622391 77.67741935  7.56736243 41.18216319 27.81783681  4.83301708\n",
      " 73.63946869 10.66223909 97.84629981 49.40796964 81.91840607 88.4857685\n",
      " 38.26565465 93.70018975  8.99240987 61.81593928]\n",
      "[44.85020243 94.10121457 12.51012146 72.45951417  2.06275304 30.76315789\n",
      " 31.17408907  2.0951417  77.82591093 14.4291498  98.66194332 52.31376518\n",
      " 78.15182186 88.17004049 32.81376518 89.75708502]\n",
      "[40.59405941 85.95049505 39.08663366 64.67574257 68.46287129 26.47772277\n",
      " 38.06683168  1.99009901 17.7970297  26.78465347 66.60891089 61.24009901\n",
      " 92.05693069 94.4529703  22.04950495 89.29455446]\n",
      "[45.68072976 89.17559863 21.23033067 73.05815279 48.43329532 46.48118586\n",
      " 52.21664766 11.63968073 19.49372862 11.96009122  7.95324971 50.86659065\n",
      " 44.08551881 81.97149373 94.27936146 94.56442417]\n",
      "[46.87288545 85.22619623 63.04688255 94.50797487 71.66215563 84.75785404\n",
      " 58.2179797  69.0038666  75.919768   51.45577574 86.69695505 25.03721605\n",
      " 50.12276462  5.88835186  2.67182214  6.88496858]\n"
     ]
    }
   ],
   "source": [
    "# Shows the result.\n",
    "centers = model.clusterCenters()\n",
    "print(\"Cluster Centers: \")\n",
    "for center in centers:\n",
    "    print(center)"
   ]
  },
  {
   "cell_type": "code",
   "execution_count": 8,
   "metadata": {
    "ExecuteTime": {
     "end_time": "2021-02-13T22:40:14.571882Z",
     "start_time": "2021-02-13T22:40:13.904485Z"
    }
   },
   "outputs": [
    {
     "name": "stdout",
     "output_type": "stream",
     "text": [
      "Silhouette with squared euclidean distance = 0.4267285839299759\n"
     ]
    }
   ],
   "source": [
    "from pyspark.ml.evaluation import ClusteringEvaluator\n",
    "evaluator = ClusteringEvaluator()\n",
    "silhouette = evaluator.evaluate(predictions)\n",
    "print(\"Silhouette with squared euclidean distance = \" + str(silhouette))"
   ]
  },
  {
   "cell_type": "code",
   "execution_count": 9,
   "metadata": {
    "ExecuteTime": {
     "end_time": "2021-02-13T22:40:15.170298Z",
     "start_time": "2021-02-13T22:40:14.574283Z"
    }
   },
   "outputs": [
    {
     "name": "stdout",
     "output_type": "stream",
     "text": [
      "+-----+----------+-----+\n",
      "|label|prediction|count|\n",
      "+-----+----------+-----+\n",
      "|  3.0|         3|   44|\n",
      "|  4.0|         9|    3|\n",
      "|  1.0|         0|  267|\n",
      "|  0.0|         5|  505|\n",
      "|  0.0|         6|  484|\n",
      "|  1.0|         3|  585|\n",
      "|  6.0|         2|    3|\n",
      "|  8.0|         6|    6|\n",
      "|  5.0|         9|  304|\n",
      "|  2.0|         0|  971|\n",
      "|  5.0|         8|  558|\n",
      "|  7.0|         4|  812|\n",
      "|  8.0|         4|  126|\n",
      "|  9.0|         9|  654|\n",
      "|  6.0|         1|  959|\n",
      "|  4.0|         0|    4|\n",
      "|  4.0|         1|   46|\n",
      "|  3.0|         9|  895|\n",
      "|  0.0|         1|   33|\n",
      "|  7.0|         0|   10|\n",
      "|  9.0|         2|  181|\n",
      "|  8.0|         9|   58|\n",
      "|  9.0|         0|   14|\n",
      "|  8.0|         3|    7|\n",
      "|  1.0|         4|   37|\n",
      "|  8.0|         0|   29|\n",
      "|  6.0|         6|    4|\n",
      "|  2.0|         3|   15|\n",
      "|  8.0|         7|  399|\n",
      "|  8.0|         1|   17|\n",
      "|  9.0|         5|   12|\n",
      "|  1.0|         9|  105|\n",
      "|  7.0|         9|   47|\n",
      "|  1.0|         1|   27|\n",
      "|  4.0|         2|  958|\n",
      "|  4.0|         3|   14|\n",
      "|  7.0|         8|    9|\n",
      "|  8.0|         8|  309|\n",
      "|  8.0|         5|    8|\n",
      "|  2.0|         4|   35|\n",
      "|  9.0|         3|   90|\n",
      "|  0.0|         2|    7|\n",
      "|  9.0|         1|    3|\n",
      "|  7.0|         3|  143|\n",
      "|  5.0|         1|   88|\n",
      "|  6.0|         8|    1|\n",
      "|  4.0|         5|    2|\n",
      "|  3.0|         2|    2|\n",
      "|  0.0|         7|    1|\n",
      "|  0.0|         9|    1|\n",
      "|  1.0|         2|    1|\n",
      "|  7.0|         7|    4|\n",
      "|  2.0|         9|    1|\n",
      "|  0.0|         0|    6|\n",
      "|  7.0|         2|    1|\n",
      "|  7.0|         1|    3|\n",
      "|  6.0|         9|    1|\n",
      "|  6.0|         0|    1|\n",
      "|  9.0|         4|    1|\n",
      "|  3.0|         0|    1|\n",
      "+-----+----------+-----+\n",
      "\n"
     ]
    }
   ],
   "source": [
    "# prediction is a group, not an actual label.\n",
    "predictions.select('label', 'prediction')\\\n",
    "           .groupBy('label', 'prediction')\\\n",
    "           .count()\\\n",
    "           .show(100)"
   ]
  },
  {
   "cell_type": "code",
   "execution_count": 10,
   "metadata": {
    "ExecuteTime": {
     "end_time": "2021-02-13T22:40:16.164269Z",
     "start_time": "2021-02-13T22:40:15.172576Z"
    }
   },
   "outputs": [],
   "source": [
    "ss.stop()"
   ]
  },
  {
   "cell_type": "code",
   "execution_count": null,
   "metadata": {},
   "outputs": [],
   "source": []
  }
 ],
 "metadata": {
  "anaconda-cloud": {},
  "kernelspec": {
   "display_name": "Python 3 (ipykernel)",
   "language": "python",
   "name": "python3"
  },
  "language_info": {
   "codemirror_mode": {
    "name": "ipython",
    "version": 3
   },
   "file_extension": ".py",
   "mimetype": "text/x-python",
   "name": "python",
   "nbconvert_exporter": "python",
   "pygments_lexer": "ipython3",
   "version": "3.7.11"
  },
  "varInspector": {
   "cols": {
    "lenName": 16,
    "lenType": 16,
    "lenVar": 40
   },
   "kernels_config": {
    "python": {
     "delete_cmd_postfix": "",
     "delete_cmd_prefix": "del ",
     "library": "var_list.py",
     "varRefreshCmd": "print(var_dic_list())"
    },
    "r": {
     "delete_cmd_postfix": ") ",
     "delete_cmd_prefix": "rm(",
     "library": "var_list.r",
     "varRefreshCmd": "cat(var_dic_list()) "
    }
   },
   "types_to_exclude": [
    "module",
    "function",
    "builtin_function_or_method",
    "instance",
    "_Feature"
   ],
   "window_display": false
  }
 },
 "nbformat": 4,
 "nbformat_minor": 1
}
